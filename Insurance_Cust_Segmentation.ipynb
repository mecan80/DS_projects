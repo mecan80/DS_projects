{
  "nbformat": 4,
  "nbformat_minor": 0,
  "metadata": {
    "colab": {
      "name": "Insurance Cust Segmentation.ipynb",
      "provenance": [],
      "collapsed_sections": [],
      "mount_file_id": "1MA7htRvoj5O6zDrWFHcyON7XLaPmhTtM",
      "authorship_tag": "ABX9TyNBycyFu5/NbgS6sUATec8x",
      "include_colab_link": true
    },
    "kernelspec": {
      "name": "python3",
      "display_name": "Python 3"
    }
  },
  "cells": [
    {
      "cell_type": "markdown",
      "metadata": {
        "id": "view-in-github",
        "colab_type": "text"
      },
      "source": [
        "<a href=\"https://colab.research.google.com/github/mecan80/DS_projects/blob/master/Insurance_Cust_Segmentation.ipynb\" target=\"_parent\"><img src=\"https://colab.research.google.com/assets/colab-badge.svg\" alt=\"Open In Colab\"/></a>"
      ]
    },
    {
      "cell_type": "markdown",
      "metadata": {
        "id": "qo-AiTJNZjRT",
        "colab_type": "text"
      },
      "source": [
        "#Project Brief\n",
        "\n",
        "Insurance companies are always updating their customer segments because of the ever changing profile of their customers, the products they offer and the competitive landscape.\n",
        "\n",
        "##Objectives:\n",
        "1. Submit a customer segments list using the company's customer data. \n",
        "2. Report on any trends, patterns, customer behaviours or interesting facts about the data.\n"
      ]
    },
    {
      "cell_type": "markdown",
      "metadata": {
        "id": "oxaMabX95oXd",
        "colab_type": "text"
      },
      "source": [
        "#Loading Libraries and the Dataset"
      ]
    },
    {
      "cell_type": "code",
      "metadata": {
        "id": "RwA6Jk3jv4DQ",
        "colab_type": "code",
        "colab": {
          "base_uri": "https://localhost:8080/",
          "height": 159
        },
        "outputId": "83220be9-7dc3-4cc4-a789-a544fc665108"
      },
      "source": [
        "pip install kmodes"
      ],
      "execution_count": 2,
      "outputs": [
        {
          "output_type": "stream",
          "text": [
            "Collecting kmodes\n",
            "  Downloading https://files.pythonhosted.org/packages/b2/55/d8ec1ae1f7e1e202a8a4184c6852a3ee993b202b0459672c699d0ac18fc8/kmodes-0.10.2-py2.py3-none-any.whl\n",
            "Requirement already satisfied: numpy>=1.10.4 in /usr/local/lib/python3.6/dist-packages (from kmodes) (1.18.2)\n",
            "Requirement already satisfied: joblib>=0.11 in /usr/local/lib/python3.6/dist-packages (from kmodes) (0.14.1)\n",
            "Requirement already satisfied: scikit-learn>=0.19.0 in /usr/local/lib/python3.6/dist-packages (from kmodes) (0.22.2.post1)\n",
            "Requirement already satisfied: scipy>=0.13.3 in /usr/local/lib/python3.6/dist-packages (from kmodes) (1.4.1)\n",
            "Installing collected packages: kmodes\n",
            "Successfully installed kmodes-0.10.2\n"
          ],
          "name": "stdout"
        }
      ]
    },
    {
      "cell_type": "code",
      "metadata": {
        "id": "JuNK79415gJ9",
        "colab_type": "code",
        "colab": {}
      },
      "source": [
        "import pandas as pd\n",
        "import numpy as np\n",
        "import matplotlib.pyplot as plt\n",
        "import seaborn as sns\n",
        "import datetime as dt\n",
        "\n",
        "from sklearn.preprocessing import StandardScaler, LabelEncoder\n",
        "from sklearn.decomposition import PCA\n",
        "from sklearn.cluster import DBSCAN, KMeans, AgglomerativeClustering\n",
        "from kmodes.kprototypes import KPrototypes \n",
        "from sklearn.metrics import silhouette_score\n",
        "from scipy.cluster.hierarchy import dendrogram, linkage\n",
        "from sklearn.pipeline import Pipeline"
      ],
      "execution_count": 0,
      "outputs": []
    },
    {
      "cell_type": "code",
      "metadata": {
        "id": "62Zs5crl6wzH",
        "colab_type": "code",
        "colab": {}
      },
      "source": [
        "insurance_df = pd.read_csv('/content/drive/My Drive/Colab Notebooks/insurance.csv')"
      ],
      "execution_count": 0,
      "outputs": []
    },
    {
      "cell_type": "markdown",
      "metadata": {
        "id": "SP2lTFBx7zRu",
        "colab_type": "text"
      },
      "source": [
        "#Exploring the Data"
      ]
    },
    {
      "cell_type": "code",
      "metadata": {
        "id": "Ay7iRrrN7v3G",
        "colab_type": "code",
        "colab": {
          "base_uri": "https://localhost:8080/",
          "height": 461
        },
        "outputId": "af952829-6e0c-4f05-a6ef-70cb9032f326"
      },
      "source": [
        "insurance_df.dtypes"
      ],
      "execution_count": 8,
      "outputs": [
        {
          "output_type": "execute_result",
          "data": {
            "text/plain": [
              "Customer                          object\n",
              "State                             object\n",
              "Customer_Lifetime_Value            int64\n",
              "Response                          object\n",
              "Coverage                          object\n",
              "Education                         object\n",
              "Effective_To_Date                 object\n",
              "EmploymentStatus                  object\n",
              "Gender                            object\n",
              "Income                             int64\n",
              "Location_Code                     object\n",
              "Marital_Status                    object\n",
              "Monthly_Premium_Auto               int64\n",
              "Months_Since_Last_Claim            int64\n",
              "Months_Since_Policy_Inception      int64\n",
              "Number_of_Open_Complaints          int64\n",
              "Number_of_Policies                 int64\n",
              "Policy_Type                       object\n",
              "Policy                            object\n",
              "Renew_Offer_Type                  object\n",
              "Sales_Channel                     object\n",
              "Total_Claim_Amount               float64\n",
              "Vehicle_Class                     object\n",
              "Vehicle_Size                      object\n",
              "dtype: object"
            ]
          },
          "metadata": {
            "tags": []
          },
          "execution_count": 8
        }
      ]
    },
    {
      "cell_type": "code",
      "metadata": {
        "id": "nGbDXZew76kM",
        "colab_type": "code",
        "colab": {
          "base_uri": "https://localhost:8080/",
          "height": 305
        },
        "outputId": "fb4605ee-675d-44e9-f921-0c272a87be8e"
      },
      "source": [
        "insurance_df.head()"
      ],
      "execution_count": 9,
      "outputs": [
        {
          "output_type": "execute_result",
          "data": {
            "text/html": [
              "<div>\n",
              "<style scoped>\n",
              "    .dataframe tbody tr th:only-of-type {\n",
              "        vertical-align: middle;\n",
              "    }\n",
              "\n",
              "    .dataframe tbody tr th {\n",
              "        vertical-align: top;\n",
              "    }\n",
              "\n",
              "    .dataframe thead th {\n",
              "        text-align: right;\n",
              "    }\n",
              "</style>\n",
              "<table border=\"1\" class=\"dataframe\">\n",
              "  <thead>\n",
              "    <tr style=\"text-align: right;\">\n",
              "      <th></th>\n",
              "      <th>Customer</th>\n",
              "      <th>State</th>\n",
              "      <th>Customer_Lifetime_Value</th>\n",
              "      <th>Response</th>\n",
              "      <th>Coverage</th>\n",
              "      <th>Education</th>\n",
              "      <th>Effective_To_Date</th>\n",
              "      <th>EmploymentStatus</th>\n",
              "      <th>Gender</th>\n",
              "      <th>Income</th>\n",
              "      <th>Location_Code</th>\n",
              "      <th>Marital_Status</th>\n",
              "      <th>Monthly_Premium_Auto</th>\n",
              "      <th>Months_Since_Last_Claim</th>\n",
              "      <th>Months_Since_Policy_Inception</th>\n",
              "      <th>Number_of_Open_Complaints</th>\n",
              "      <th>Number_of_Policies</th>\n",
              "      <th>Policy_Type</th>\n",
              "      <th>Policy</th>\n",
              "      <th>Renew_Offer_Type</th>\n",
              "      <th>Sales_Channel</th>\n",
              "      <th>Total_Claim_Amount</th>\n",
              "      <th>Vehicle_Class</th>\n",
              "      <th>Vehicle_Size</th>\n",
              "    </tr>\n",
              "  </thead>\n",
              "  <tbody>\n",
              "    <tr>\n",
              "      <th>0</th>\n",
              "      <td>BU79786</td>\n",
              "      <td>Washington</td>\n",
              "      <td>2764</td>\n",
              "      <td>No</td>\n",
              "      <td>Basic</td>\n",
              "      <td>Bachelor</td>\n",
              "      <td>2/24/11</td>\n",
              "      <td>Employed</td>\n",
              "      <td>F</td>\n",
              "      <td>56274</td>\n",
              "      <td>Suburban</td>\n",
              "      <td>Married</td>\n",
              "      <td>69</td>\n",
              "      <td>32</td>\n",
              "      <td>5</td>\n",
              "      <td>0</td>\n",
              "      <td>1</td>\n",
              "      <td>Corporate Auto</td>\n",
              "      <td>Corporate L3</td>\n",
              "      <td>Offer1</td>\n",
              "      <td>Agent</td>\n",
              "      <td>384.811147</td>\n",
              "      <td>Two-Door Car</td>\n",
              "      <td>Medsize</td>\n",
              "    </tr>\n",
              "    <tr>\n",
              "      <th>1</th>\n",
              "      <td>QZ44356</td>\n",
              "      <td>Arizona</td>\n",
              "      <td>6980</td>\n",
              "      <td>No</td>\n",
              "      <td>Extended</td>\n",
              "      <td>Bachelor</td>\n",
              "      <td>1/31/11</td>\n",
              "      <td>Unemployed</td>\n",
              "      <td>F</td>\n",
              "      <td>0</td>\n",
              "      <td>Suburban</td>\n",
              "      <td>Single</td>\n",
              "      <td>94</td>\n",
              "      <td>13</td>\n",
              "      <td>42</td>\n",
              "      <td>0</td>\n",
              "      <td>8</td>\n",
              "      <td>Personal Auto</td>\n",
              "      <td>Personal L3</td>\n",
              "      <td>Offer3</td>\n",
              "      <td>Agent</td>\n",
              "      <td>1131.464935</td>\n",
              "      <td>Four-Door Car</td>\n",
              "      <td>Medsize</td>\n",
              "    </tr>\n",
              "    <tr>\n",
              "      <th>2</th>\n",
              "      <td>AI49188</td>\n",
              "      <td>Nevada</td>\n",
              "      <td>12887</td>\n",
              "      <td>No</td>\n",
              "      <td>Premium</td>\n",
              "      <td>Bachelor</td>\n",
              "      <td>2/19/11</td>\n",
              "      <td>Employed</td>\n",
              "      <td>F</td>\n",
              "      <td>48767</td>\n",
              "      <td>Suburban</td>\n",
              "      <td>Married</td>\n",
              "      <td>108</td>\n",
              "      <td>18</td>\n",
              "      <td>38</td>\n",
              "      <td>0</td>\n",
              "      <td>2</td>\n",
              "      <td>Personal Auto</td>\n",
              "      <td>Personal L3</td>\n",
              "      <td>Offer1</td>\n",
              "      <td>Agent</td>\n",
              "      <td>566.472247</td>\n",
              "      <td>Two-Door Car</td>\n",
              "      <td>Medsize</td>\n",
              "    </tr>\n",
              "    <tr>\n",
              "      <th>3</th>\n",
              "      <td>WW63253</td>\n",
              "      <td>California</td>\n",
              "      <td>7646</td>\n",
              "      <td>No</td>\n",
              "      <td>Basic</td>\n",
              "      <td>Bachelor</td>\n",
              "      <td>1/20/11</td>\n",
              "      <td>Unemployed</td>\n",
              "      <td>M</td>\n",
              "      <td>0</td>\n",
              "      <td>Suburban</td>\n",
              "      <td>Married</td>\n",
              "      <td>106</td>\n",
              "      <td>18</td>\n",
              "      <td>65</td>\n",
              "      <td>0</td>\n",
              "      <td>7</td>\n",
              "      <td>Corporate Auto</td>\n",
              "      <td>Corporate L2</td>\n",
              "      <td>Offer1</td>\n",
              "      <td>Call Center</td>\n",
              "      <td>529.881344</td>\n",
              "      <td>SUV</td>\n",
              "      <td>Medsize</td>\n",
              "    </tr>\n",
              "    <tr>\n",
              "      <th>4</th>\n",
              "      <td>HB64268</td>\n",
              "      <td>Washington</td>\n",
              "      <td>2814</td>\n",
              "      <td>No</td>\n",
              "      <td>Basic</td>\n",
              "      <td>Bachelor</td>\n",
              "      <td>2002-03-11</td>\n",
              "      <td>Employed</td>\n",
              "      <td>M</td>\n",
              "      <td>43836</td>\n",
              "      <td>Rural</td>\n",
              "      <td>Single</td>\n",
              "      <td>73</td>\n",
              "      <td>12</td>\n",
              "      <td>44</td>\n",
              "      <td>0</td>\n",
              "      <td>1</td>\n",
              "      <td>Personal Auto</td>\n",
              "      <td>Personal L1</td>\n",
              "      <td>Offer1</td>\n",
              "      <td>Agent</td>\n",
              "      <td>138.130879</td>\n",
              "      <td>Four-Door Car</td>\n",
              "      <td>Medsize</td>\n",
              "    </tr>\n",
              "  </tbody>\n",
              "</table>\n",
              "</div>"
            ],
            "text/plain": [
              "  Customer       State  ...  Vehicle_Class Vehicle_Size\n",
              "0  BU79786  Washington  ...   Two-Door Car      Medsize\n",
              "1  QZ44356     Arizona  ...  Four-Door Car      Medsize\n",
              "2  AI49188      Nevada  ...   Two-Door Car      Medsize\n",
              "3  WW63253  California  ...            SUV      Medsize\n",
              "4  HB64268  Washington  ...  Four-Door Car      Medsize\n",
              "\n",
              "[5 rows x 24 columns]"
            ]
          },
          "metadata": {
            "tags": []
          },
          "execution_count": 9
        }
      ]
    },
    {
      "cell_type": "code",
      "metadata": {
        "id": "ZOe78KorjseX",
        "colab_type": "code",
        "colab": {
          "base_uri": "https://localhost:8080/",
          "height": 35
        },
        "outputId": "f7414772-50b0-4f05-a0de-5ca138d7c279"
      },
      "source": [
        "insurance_df.shape"
      ],
      "execution_count": 10,
      "outputs": [
        {
          "output_type": "execute_result",
          "data": {
            "text/plain": [
              "(9134, 24)"
            ]
          },
          "metadata": {
            "tags": []
          },
          "execution_count": 10
        }
      ]
    },
    {
      "cell_type": "code",
      "metadata": {
        "id": "acuq4U2t8AFd",
        "colab_type": "code",
        "colab": {
          "base_uri": "https://localhost:8080/",
          "height": 311
        },
        "outputId": "17959933-b708-40ae-f867-c3caddc1b1a5"
      },
      "source": [
        "insurance_df.describe()"
      ],
      "execution_count": 11,
      "outputs": [
        {
          "output_type": "execute_result",
          "data": {
            "text/html": [
              "<div>\n",
              "<style scoped>\n",
              "    .dataframe tbody tr th:only-of-type {\n",
              "        vertical-align: middle;\n",
              "    }\n",
              "\n",
              "    .dataframe tbody tr th {\n",
              "        vertical-align: top;\n",
              "    }\n",
              "\n",
              "    .dataframe thead th {\n",
              "        text-align: right;\n",
              "    }\n",
              "</style>\n",
              "<table border=\"1\" class=\"dataframe\">\n",
              "  <thead>\n",
              "    <tr style=\"text-align: right;\">\n",
              "      <th></th>\n",
              "      <th>Customer_Lifetime_Value</th>\n",
              "      <th>Income</th>\n",
              "      <th>Monthly_Premium_Auto</th>\n",
              "      <th>Months_Since_Last_Claim</th>\n",
              "      <th>Months_Since_Policy_Inception</th>\n",
              "      <th>Number_of_Open_Complaints</th>\n",
              "      <th>Number_of_Policies</th>\n",
              "      <th>Total_Claim_Amount</th>\n",
              "    </tr>\n",
              "  </thead>\n",
              "  <tbody>\n",
              "    <tr>\n",
              "      <th>count</th>\n",
              "      <td>9134.000000</td>\n",
              "      <td>9134.000000</td>\n",
              "      <td>9134.000000</td>\n",
              "      <td>9134.000000</td>\n",
              "      <td>9134.000000</td>\n",
              "      <td>9134.000000</td>\n",
              "      <td>9134.000000</td>\n",
              "      <td>9134.000000</td>\n",
              "    </tr>\n",
              "    <tr>\n",
              "      <th>mean</th>\n",
              "      <td>8004.945697</td>\n",
              "      <td>37657.380009</td>\n",
              "      <td>93.219291</td>\n",
              "      <td>15.097000</td>\n",
              "      <td>48.064594</td>\n",
              "      <td>0.384388</td>\n",
              "      <td>2.966170</td>\n",
              "      <td>434.088794</td>\n",
              "    </tr>\n",
              "    <tr>\n",
              "      <th>std</th>\n",
              "      <td>6870.968043</td>\n",
              "      <td>30379.904734</td>\n",
              "      <td>34.407967</td>\n",
              "      <td>10.073257</td>\n",
              "      <td>27.905991</td>\n",
              "      <td>0.910384</td>\n",
              "      <td>2.390182</td>\n",
              "      <td>290.500092</td>\n",
              "    </tr>\n",
              "    <tr>\n",
              "      <th>min</th>\n",
              "      <td>1898.000000</td>\n",
              "      <td>0.000000</td>\n",
              "      <td>61.000000</td>\n",
              "      <td>0.000000</td>\n",
              "      <td>0.000000</td>\n",
              "      <td>0.000000</td>\n",
              "      <td>1.000000</td>\n",
              "      <td>0.099007</td>\n",
              "    </tr>\n",
              "    <tr>\n",
              "      <th>25%</th>\n",
              "      <td>3994.250000</td>\n",
              "      <td>0.000000</td>\n",
              "      <td>68.000000</td>\n",
              "      <td>6.000000</td>\n",
              "      <td>24.000000</td>\n",
              "      <td>0.000000</td>\n",
              "      <td>1.000000</td>\n",
              "      <td>272.258244</td>\n",
              "    </tr>\n",
              "    <tr>\n",
              "      <th>50%</th>\n",
              "      <td>5780.000000</td>\n",
              "      <td>33889.500000</td>\n",
              "      <td>83.000000</td>\n",
              "      <td>14.000000</td>\n",
              "      <td>48.000000</td>\n",
              "      <td>0.000000</td>\n",
              "      <td>2.000000</td>\n",
              "      <td>383.945434</td>\n",
              "    </tr>\n",
              "    <tr>\n",
              "      <th>75%</th>\n",
              "      <td>8962.250000</td>\n",
              "      <td>62320.000000</td>\n",
              "      <td>109.000000</td>\n",
              "      <td>23.000000</td>\n",
              "      <td>71.000000</td>\n",
              "      <td>0.000000</td>\n",
              "      <td>4.000000</td>\n",
              "      <td>547.514839</td>\n",
              "    </tr>\n",
              "    <tr>\n",
              "      <th>max</th>\n",
              "      <td>83325.000000</td>\n",
              "      <td>99981.000000</td>\n",
              "      <td>298.000000</td>\n",
              "      <td>35.000000</td>\n",
              "      <td>99.000000</td>\n",
              "      <td>5.000000</td>\n",
              "      <td>9.000000</td>\n",
              "      <td>2893.239678</td>\n",
              "    </tr>\n",
              "  </tbody>\n",
              "</table>\n",
              "</div>"
            ],
            "text/plain": [
              "       Customer_Lifetime_Value  ...  Total_Claim_Amount\n",
              "count              9134.000000  ...         9134.000000\n",
              "mean               8004.945697  ...          434.088794\n",
              "std                6870.968043  ...          290.500092\n",
              "min                1898.000000  ...            0.099007\n",
              "25%                3994.250000  ...          272.258244\n",
              "50%                5780.000000  ...          383.945434\n",
              "75%                8962.250000  ...          547.514839\n",
              "max               83325.000000  ...         2893.239678\n",
              "\n",
              "[8 rows x 8 columns]"
            ]
          },
          "metadata": {
            "tags": []
          },
          "execution_count": 11
        }
      ]
    },
    {
      "cell_type": "code",
      "metadata": {
        "id": "iMCcmufC8LWF",
        "colab_type": "code",
        "colab": {
          "base_uri": "https://localhost:8080/",
          "height": 461
        },
        "outputId": "8b130435-b25b-440e-92e9-baf47fee94fd"
      },
      "source": [
        "#Checking for null values\n",
        "insurance_df.isnull().sum()"
      ],
      "execution_count": 7,
      "outputs": [
        {
          "output_type": "execute_result",
          "data": {
            "text/plain": [
              "Customer                         0\n",
              "State                            0\n",
              "Customer_Lifetime_Value          0\n",
              "Response                         0\n",
              "Coverage                         0\n",
              "Education                        0\n",
              "Effective_To_Date                0\n",
              "EmploymentStatus                 0\n",
              "Gender                           0\n",
              "Income                           0\n",
              "Location_Code                    0\n",
              "Marital_Status                   0\n",
              "Monthly_Premium_Auto             0\n",
              "Months_Since_Last_Claim          0\n",
              "Months_Since_Policy_Inception    0\n",
              "Number_of_Open_Complaints        0\n",
              "Number_of_Policies               0\n",
              "Policy_Type                      0\n",
              "Policy                           0\n",
              "Renew_Offer_Type                 0\n",
              "Sales_Channel                    0\n",
              "Total_Claim_Amount               0\n",
              "Vehicle_Class                    0\n",
              "Vehicle_Size                     0\n",
              "dtype: int64"
            ]
          },
          "metadata": {
            "tags": []
          },
          "execution_count": 7
        }
      ]
    },
    {
      "cell_type": "code",
      "metadata": {
        "id": "7HNQi10u8Pn7",
        "colab_type": "code",
        "colab": {
          "base_uri": "https://localhost:8080/",
          "height": 461
        },
        "outputId": "768fc8f1-be18-422d-fabb-6bd91a281372"
      },
      "source": [
        "#Checking for count of unique values\n",
        "insurance_df.nunique()"
      ],
      "execution_count": 12,
      "outputs": [
        {
          "output_type": "execute_result",
          "data": {
            "text/plain": [
              "Customer                         9134\n",
              "State                               5\n",
              "Customer_Lifetime_Value          5674\n",
              "Response                            2\n",
              "Coverage                            3\n",
              "Education                           5\n",
              "Effective_To_Date                  59\n",
              "EmploymentStatus                    5\n",
              "Gender                              2\n",
              "Income                           5694\n",
              "Location_Code                       3\n",
              "Marital_Status                      3\n",
              "Monthly_Premium_Auto              202\n",
              "Months_Since_Last_Claim            36\n",
              "Months_Since_Policy_Inception     100\n",
              "Number_of_Open_Complaints           6\n",
              "Number_of_Policies                  9\n",
              "Policy_Type                         3\n",
              "Policy                              9\n",
              "Renew_Offer_Type                    4\n",
              "Sales_Channel                       4\n",
              "Total_Claim_Amount               5106\n",
              "Vehicle_Class                       6\n",
              "Vehicle_Size                        3\n",
              "dtype: int64"
            ]
          },
          "metadata": {
            "tags": []
          },
          "execution_count": 12
        }
      ]
    },
    {
      "cell_type": "code",
      "metadata": {
        "id": "wFnDuNtb8VD0",
        "colab_type": "code",
        "colab": {
          "base_uri": "https://localhost:8080/",
          "height": 230
        },
        "outputId": "88db1e51-0a0f-4ada-8e74-4d245afa3bfe"
      },
      "source": [
        "insurance_df.groupby(['State']).agg({'Customer':'count', 'Number_of_Policies':'sum', 'Number_of_Open_Complaints':'sum', 'Total_Claim_Amount':'mean'}) "
      ],
      "execution_count": 13,
      "outputs": [
        {
          "output_type": "execute_result",
          "data": {
            "text/html": [
              "<div>\n",
              "<style scoped>\n",
              "    .dataframe tbody tr th:only-of-type {\n",
              "        vertical-align: middle;\n",
              "    }\n",
              "\n",
              "    .dataframe tbody tr th {\n",
              "        vertical-align: top;\n",
              "    }\n",
              "\n",
              "    .dataframe thead th {\n",
              "        text-align: right;\n",
              "    }\n",
              "</style>\n",
              "<table border=\"1\" class=\"dataframe\">\n",
              "  <thead>\n",
              "    <tr style=\"text-align: right;\">\n",
              "      <th></th>\n",
              "      <th>Customer</th>\n",
              "      <th>Number_of_Policies</th>\n",
              "      <th>Number_of_Open_Complaints</th>\n",
              "      <th>Total_Claim_Amount</th>\n",
              "    </tr>\n",
              "    <tr>\n",
              "      <th>State</th>\n",
              "      <th></th>\n",
              "      <th></th>\n",
              "      <th></th>\n",
              "      <th></th>\n",
              "    </tr>\n",
              "  </thead>\n",
              "  <tbody>\n",
              "    <tr>\n",
              "      <th>Arizona</th>\n",
              "      <td>1703</td>\n",
              "      <td>5224</td>\n",
              "      <td>653</td>\n",
              "      <td>425.361446</td>\n",
              "    </tr>\n",
              "    <tr>\n",
              "      <th>California</th>\n",
              "      <td>3150</td>\n",
              "      <td>9348</td>\n",
              "      <td>1205</td>\n",
              "      <td>437.819268</td>\n",
              "    </tr>\n",
              "    <tr>\n",
              "      <th>Nevada</th>\n",
              "      <td>882</td>\n",
              "      <td>2449</td>\n",
              "      <td>378</td>\n",
              "      <td>438.750566</td>\n",
              "    </tr>\n",
              "    <tr>\n",
              "      <th>Oregon</th>\n",
              "      <td>2601</td>\n",
              "      <td>7735</td>\n",
              "      <td>946</td>\n",
              "      <td>433.012542</td>\n",
              "    </tr>\n",
              "    <tr>\n",
              "      <th>Washington</th>\n",
              "      <td>798</td>\n",
              "      <td>2337</td>\n",
              "      <td>329</td>\n",
              "      <td>436.343596</td>\n",
              "    </tr>\n",
              "  </tbody>\n",
              "</table>\n",
              "</div>"
            ],
            "text/plain": [
              "            Customer  ...  Total_Claim_Amount\n",
              "State                 ...                    \n",
              "Arizona         1703  ...          425.361446\n",
              "California      3150  ...          437.819268\n",
              "Nevada           882  ...          438.750566\n",
              "Oregon          2601  ...          433.012542\n",
              "Washington       798  ...          436.343596\n",
              "\n",
              "[5 rows x 4 columns]"
            ]
          },
          "metadata": {
            "tags": []
          },
          "execution_count": 13
        }
      ]
    },
    {
      "cell_type": "code",
      "metadata": {
        "id": "mARJzmD5DY-B",
        "colab_type": "code",
        "colab": {
          "base_uri": "https://localhost:8080/",
          "height": 441
        },
        "outputId": "eaa5ceaf-a026-4ddb-b43f-28be5c3afb30"
      },
      "source": [
        "insurance_df.groupby(['State', 'Vehicle_Class', 'Vehicle_Size']).agg({'Customer':'count','Total_Claim_Amount':'mean', 'Number_of_Open_Complaints':'sum'})"
      ],
      "execution_count": 14,
      "outputs": [
        {
          "output_type": "execute_result",
          "data": {
            "text/html": [
              "<div>\n",
              "<style scoped>\n",
              "    .dataframe tbody tr th:only-of-type {\n",
              "        vertical-align: middle;\n",
              "    }\n",
              "\n",
              "    .dataframe tbody tr th {\n",
              "        vertical-align: top;\n",
              "    }\n",
              "\n",
              "    .dataframe thead th {\n",
              "        text-align: right;\n",
              "    }\n",
              "</style>\n",
              "<table border=\"1\" class=\"dataframe\">\n",
              "  <thead>\n",
              "    <tr style=\"text-align: right;\">\n",
              "      <th></th>\n",
              "      <th></th>\n",
              "      <th></th>\n",
              "      <th>Customer</th>\n",
              "      <th>Total_Claim_Amount</th>\n",
              "      <th>Number_of_Open_Complaints</th>\n",
              "    </tr>\n",
              "    <tr>\n",
              "      <th>State</th>\n",
              "      <th>Vehicle_Class</th>\n",
              "      <th>Vehicle_Size</th>\n",
              "      <th></th>\n",
              "      <th></th>\n",
              "      <th></th>\n",
              "    </tr>\n",
              "  </thead>\n",
              "  <tbody>\n",
              "    <tr>\n",
              "      <th rowspan=\"5\" valign=\"top\">Arizona</th>\n",
              "      <th rowspan=\"3\" valign=\"top\">Four-Door Car</th>\n",
              "      <th>Large</th>\n",
              "      <td>94</td>\n",
              "      <td>372.295263</td>\n",
              "      <td>55</td>\n",
              "    </tr>\n",
              "    <tr>\n",
              "      <th>Medsize</th>\n",
              "      <td>634</td>\n",
              "      <td>322.214431</td>\n",
              "      <td>249</td>\n",
              "    </tr>\n",
              "    <tr>\n",
              "      <th>Small</th>\n",
              "      <td>167</td>\n",
              "      <td>429.663359</td>\n",
              "      <td>57</td>\n",
              "    </tr>\n",
              "    <tr>\n",
              "      <th rowspan=\"2\" valign=\"top\">Luxury Car</th>\n",
              "      <th>Medsize</th>\n",
              "      <td>17</td>\n",
              "      <td>873.968362</td>\n",
              "      <td>5</td>\n",
              "    </tr>\n",
              "    <tr>\n",
              "      <th>Small</th>\n",
              "      <td>11</td>\n",
              "      <td>970.115940</td>\n",
              "      <td>5</td>\n",
              "    </tr>\n",
              "    <tr>\n",
              "      <th>...</th>\n",
              "      <th>...</th>\n",
              "      <th>...</th>\n",
              "      <td>...</td>\n",
              "      <td>...</td>\n",
              "      <td>...</td>\n",
              "    </tr>\n",
              "    <tr>\n",
              "      <th rowspan=\"5\" valign=\"top\">Washington</th>\n",
              "      <th rowspan=\"2\" valign=\"top\">Sports Car</th>\n",
              "      <th>Medsize</th>\n",
              "      <td>20</td>\n",
              "      <td>449.456348</td>\n",
              "      <td>15</td>\n",
              "    </tr>\n",
              "    <tr>\n",
              "      <th>Small</th>\n",
              "      <td>4</td>\n",
              "      <td>412.250232</td>\n",
              "      <td>0</td>\n",
              "    </tr>\n",
              "    <tr>\n",
              "      <th rowspan=\"3\" valign=\"top\">Two-Door Car</th>\n",
              "      <th>Large</th>\n",
              "      <td>17</td>\n",
              "      <td>314.757629</td>\n",
              "      <td>8</td>\n",
              "    </tr>\n",
              "    <tr>\n",
              "      <th>Medsize</th>\n",
              "      <td>126</td>\n",
              "      <td>342.253583</td>\n",
              "      <td>50</td>\n",
              "    </tr>\n",
              "    <tr>\n",
              "      <th>Small</th>\n",
              "      <td>30</td>\n",
              "      <td>415.816437</td>\n",
              "      <td>6</td>\n",
              "    </tr>\n",
              "  </tbody>\n",
              "</table>\n",
              "<p>88 rows × 3 columns</p>\n",
              "</div>"
            ],
            "text/plain": [
              "                                       Customer  ...  Number_of_Open_Complaints\n",
              "State      Vehicle_Class Vehicle_Size            ...                           \n",
              "Arizona    Four-Door Car Large               94  ...                         55\n",
              "                         Medsize            634  ...                        249\n",
              "                         Small              167  ...                         57\n",
              "           Luxury Car    Medsize             17  ...                          5\n",
              "                         Small               11  ...                          5\n",
              "...                                         ...  ...                        ...\n",
              "Washington Sports Car    Medsize             20  ...                         15\n",
              "                         Small                4  ...                          0\n",
              "           Two-Door Car  Large               17  ...                          8\n",
              "                         Medsize            126  ...                         50\n",
              "                         Small               30  ...                          6\n",
              "\n",
              "[88 rows x 3 columns]"
            ]
          },
          "metadata": {
            "tags": []
          },
          "execution_count": 14
        }
      ]
    },
    {
      "cell_type": "code",
      "metadata": {
        "id": "ppSC5hATDuI_",
        "colab_type": "code",
        "colab": {
          "base_uri": "https://localhost:8080/",
          "height": 291
        },
        "outputId": "d4f21946-e7cd-42bd-8cc2-0dbe5a089ad1"
      },
      "source": [
        "insurance_df.groupby(['Renew_Offer_Type', 'Response']).agg({'Customer':'count', 'Months_Since_Policy_Inception':'mean'})"
      ],
      "execution_count": 15,
      "outputs": [
        {
          "output_type": "execute_result",
          "data": {
            "text/html": [
              "<div>\n",
              "<style scoped>\n",
              "    .dataframe tbody tr th:only-of-type {\n",
              "        vertical-align: middle;\n",
              "    }\n",
              "\n",
              "    .dataframe tbody tr th {\n",
              "        vertical-align: top;\n",
              "    }\n",
              "\n",
              "    .dataframe thead th {\n",
              "        text-align: right;\n",
              "    }\n",
              "</style>\n",
              "<table border=\"1\" class=\"dataframe\">\n",
              "  <thead>\n",
              "    <tr style=\"text-align: right;\">\n",
              "      <th></th>\n",
              "      <th></th>\n",
              "      <th>Customer</th>\n",
              "      <th>Months_Since_Policy_Inception</th>\n",
              "    </tr>\n",
              "    <tr>\n",
              "      <th>Renew_Offer_Type</th>\n",
              "      <th>Response</th>\n",
              "      <th></th>\n",
              "      <th></th>\n",
              "    </tr>\n",
              "  </thead>\n",
              "  <tbody>\n",
              "    <tr>\n",
              "      <th rowspan=\"2\" valign=\"top\">Offer1</th>\n",
              "      <th>No</th>\n",
              "      <td>3158</td>\n",
              "      <td>51.290057</td>\n",
              "    </tr>\n",
              "    <tr>\n",
              "      <th>Yes</th>\n",
              "      <td>594</td>\n",
              "      <td>52.252525</td>\n",
              "    </tr>\n",
              "    <tr>\n",
              "      <th rowspan=\"2\" valign=\"top\">Offer2</th>\n",
              "      <th>No</th>\n",
              "      <td>2242</td>\n",
              "      <td>45.972792</td>\n",
              "    </tr>\n",
              "    <tr>\n",
              "      <th>Yes</th>\n",
              "      <td>684</td>\n",
              "      <td>44.991228</td>\n",
              "    </tr>\n",
              "    <tr>\n",
              "      <th rowspan=\"2\" valign=\"top\">Offer3</th>\n",
              "      <th>No</th>\n",
              "      <td>1402</td>\n",
              "      <td>47.561341</td>\n",
              "    </tr>\n",
              "    <tr>\n",
              "      <th>Yes</th>\n",
              "      <td>30</td>\n",
              "      <td>44.000000</td>\n",
              "    </tr>\n",
              "    <tr>\n",
              "      <th>Offer4</th>\n",
              "      <th>No</th>\n",
              "      <td>1024</td>\n",
              "      <td>43.128906</td>\n",
              "    </tr>\n",
              "  </tbody>\n",
              "</table>\n",
              "</div>"
            ],
            "text/plain": [
              "                           Customer  Months_Since_Policy_Inception\n",
              "Renew_Offer_Type Response                                         \n",
              "Offer1           No            3158                      51.290057\n",
              "                 Yes            594                      52.252525\n",
              "Offer2           No            2242                      45.972792\n",
              "                 Yes            684                      44.991228\n",
              "Offer3           No            1402                      47.561341\n",
              "                 Yes             30                      44.000000\n",
              "Offer4           No            1024                      43.128906"
            ]
          },
          "metadata": {
            "tags": []
          },
          "execution_count": 15
        }
      ]
    },
    {
      "cell_type": "code",
      "metadata": {
        "id": "mfFT8i8eD5Mi",
        "colab_type": "code",
        "colab": {
          "base_uri": "https://localhost:8080/",
          "height": 504
        },
        "outputId": "1f629808-9748-4705-f5e1-5aa7aaf509eb"
      },
      "source": [
        "insurance_df.groupby(['Location_Code', 'EmploymentStatus']).agg({'Customer':'count', 'Number_of_Open_Complaints':'sum', 'Monthly_Premium_Auto':'mean', 'Total_Claim_Amount':'mean'})"
      ],
      "execution_count": 16,
      "outputs": [
        {
          "output_type": "execute_result",
          "data": {
            "text/html": [
              "<div>\n",
              "<style scoped>\n",
              "    .dataframe tbody tr th:only-of-type {\n",
              "        vertical-align: middle;\n",
              "    }\n",
              "\n",
              "    .dataframe tbody tr th {\n",
              "        vertical-align: top;\n",
              "    }\n",
              "\n",
              "    .dataframe thead th {\n",
              "        text-align: right;\n",
              "    }\n",
              "</style>\n",
              "<table border=\"1\" class=\"dataframe\">\n",
              "  <thead>\n",
              "    <tr style=\"text-align: right;\">\n",
              "      <th></th>\n",
              "      <th></th>\n",
              "      <th>Customer</th>\n",
              "      <th>Number_of_Open_Complaints</th>\n",
              "      <th>Monthly_Premium_Auto</th>\n",
              "      <th>Total_Claim_Amount</th>\n",
              "    </tr>\n",
              "    <tr>\n",
              "      <th>Location_Code</th>\n",
              "      <th>EmploymentStatus</th>\n",
              "      <th></th>\n",
              "      <th></th>\n",
              "      <th></th>\n",
              "      <th></th>\n",
              "    </tr>\n",
              "  </thead>\n",
              "  <tbody>\n",
              "    <tr>\n",
              "      <th rowspan=\"4\" valign=\"top\">Rural</th>\n",
              "      <th>Disabled</th>\n",
              "      <td>33</td>\n",
              "      <td>15</td>\n",
              "      <td>85.333333</td>\n",
              "      <td>94.568548</td>\n",
              "    </tr>\n",
              "    <tr>\n",
              "      <th>Employed</th>\n",
              "      <td>1596</td>\n",
              "      <td>622</td>\n",
              "      <td>90.440476</td>\n",
              "      <td>111.351429</td>\n",
              "    </tr>\n",
              "    <tr>\n",
              "      <th>Medical Leave</th>\n",
              "      <td>36</td>\n",
              "      <td>9</td>\n",
              "      <td>80.361111</td>\n",
              "      <td>91.057504</td>\n",
              "    </tr>\n",
              "    <tr>\n",
              "      <th>Unemployed</th>\n",
              "      <td>108</td>\n",
              "      <td>40</td>\n",
              "      <td>84.944444</td>\n",
              "      <td>99.500188</td>\n",
              "    </tr>\n",
              "    <tr>\n",
              "      <th rowspan=\"5\" valign=\"top\">Suburban</th>\n",
              "      <th>Disabled</th>\n",
              "      <td>341</td>\n",
              "      <td>87</td>\n",
              "      <td>94.753666</td>\n",
              "      <td>525.338994</td>\n",
              "    </tr>\n",
              "    <tr>\n",
              "      <th>Employed</th>\n",
              "      <td>2688</td>\n",
              "      <td>1072</td>\n",
              "      <td>96.404390</td>\n",
              "      <td>519.038851</td>\n",
              "    </tr>\n",
              "    <tr>\n",
              "      <th>Medical Leave</th>\n",
              "      <td>354</td>\n",
              "      <td>123</td>\n",
              "      <td>91.937853</td>\n",
              "      <td>531.758497</td>\n",
              "    </tr>\n",
              "    <tr>\n",
              "      <th>Retired</th>\n",
              "      <td>274</td>\n",
              "      <td>111</td>\n",
              "      <td>92.120438</td>\n",
              "      <td>496.260544</td>\n",
              "    </tr>\n",
              "    <tr>\n",
              "      <th>Unemployed</th>\n",
              "      <td>2122</td>\n",
              "      <td>833</td>\n",
              "      <td>94.761546</td>\n",
              "      <td>636.280379</td>\n",
              "    </tr>\n",
              "    <tr>\n",
              "      <th rowspan=\"5\" valign=\"top\">Urban</th>\n",
              "      <th>Disabled</th>\n",
              "      <td>31</td>\n",
              "      <td>10</td>\n",
              "      <td>90.677419</td>\n",
              "      <td>322.477116</td>\n",
              "    </tr>\n",
              "    <tr>\n",
              "      <th>Employed</th>\n",
              "      <td>1414</td>\n",
              "      <td>543</td>\n",
              "      <td>90.274399</td>\n",
              "      <td>331.373162</td>\n",
              "    </tr>\n",
              "    <tr>\n",
              "      <th>Medical Leave</th>\n",
              "      <td>42</td>\n",
              "      <td>10</td>\n",
              "      <td>82.047619</td>\n",
              "      <td>294.163521</td>\n",
              "    </tr>\n",
              "    <tr>\n",
              "      <th>Retired</th>\n",
              "      <td>8</td>\n",
              "      <td>1</td>\n",
              "      <td>67.375000</td>\n",
              "      <td>272.089073</td>\n",
              "    </tr>\n",
              "    <tr>\n",
              "      <th>Unemployed</th>\n",
              "      <td>87</td>\n",
              "      <td>35</td>\n",
              "      <td>85.954023</td>\n",
              "      <td>325.211513</td>\n",
              "    </tr>\n",
              "  </tbody>\n",
              "</table>\n",
              "</div>"
            ],
            "text/plain": [
              "                                Customer  ...  Total_Claim_Amount\n",
              "Location_Code EmploymentStatus            ...                    \n",
              "Rural         Disabled                33  ...           94.568548\n",
              "              Employed              1596  ...          111.351429\n",
              "              Medical Leave           36  ...           91.057504\n",
              "              Unemployed             108  ...           99.500188\n",
              "Suburban      Disabled               341  ...          525.338994\n",
              "              Employed              2688  ...          519.038851\n",
              "              Medical Leave          354  ...          531.758497\n",
              "              Retired                274  ...          496.260544\n",
              "              Unemployed            2122  ...          636.280379\n",
              "Urban         Disabled                31  ...          322.477116\n",
              "              Employed              1414  ...          331.373162\n",
              "              Medical Leave           42  ...          294.163521\n",
              "              Retired                  8  ...          272.089073\n",
              "              Unemployed              87  ...          325.211513\n",
              "\n",
              "[14 rows x 4 columns]"
            ]
          },
          "metadata": {
            "tags": []
          },
          "execution_count": 16
        }
      ]
    },
    {
      "cell_type": "code",
      "metadata": {
        "id": "uNEmu0DzEAbr",
        "colab_type": "code",
        "colab": {
          "base_uri": "https://localhost:8080/",
          "height": 352
        },
        "outputId": "1dca6f82-0d70-4d51-f9bf-f9857c451c81"
      },
      "source": [
        "insurance_df.groupby(['Policy_Type', 'Policy']).agg({'Customer':'count', 'Number_of_Policies':'sum', 'Number_of_Open_Complaints':'sum', 'Monthly_Premium_Auto':'mean', 'Total_Claim_Amount':'mean'})"
      ],
      "execution_count": 17,
      "outputs": [
        {
          "output_type": "execute_result",
          "data": {
            "text/html": [
              "<div>\n",
              "<style scoped>\n",
              "    .dataframe tbody tr th:only-of-type {\n",
              "        vertical-align: middle;\n",
              "    }\n",
              "\n",
              "    .dataframe tbody tr th {\n",
              "        vertical-align: top;\n",
              "    }\n",
              "\n",
              "    .dataframe thead th {\n",
              "        text-align: right;\n",
              "    }\n",
              "</style>\n",
              "<table border=\"1\" class=\"dataframe\">\n",
              "  <thead>\n",
              "    <tr style=\"text-align: right;\">\n",
              "      <th></th>\n",
              "      <th></th>\n",
              "      <th>Customer</th>\n",
              "      <th>Number_of_Policies</th>\n",
              "      <th>Number_of_Open_Complaints</th>\n",
              "      <th>Monthly_Premium_Auto</th>\n",
              "      <th>Total_Claim_Amount</th>\n",
              "    </tr>\n",
              "    <tr>\n",
              "      <th>Policy_Type</th>\n",
              "      <th>Policy</th>\n",
              "      <th></th>\n",
              "      <th></th>\n",
              "      <th></th>\n",
              "      <th></th>\n",
              "      <th></th>\n",
              "    </tr>\n",
              "  </thead>\n",
              "  <tbody>\n",
              "    <tr>\n",
              "      <th rowspan=\"3\" valign=\"top\">Corporate Auto</th>\n",
              "      <th>Corporate L1</th>\n",
              "      <td>359</td>\n",
              "      <td>1026</td>\n",
              "      <td>129</td>\n",
              "      <td>93.763231</td>\n",
              "      <td>437.787660</td>\n",
              "    </tr>\n",
              "    <tr>\n",
              "      <th>Corporate L2</th>\n",
              "      <td>595</td>\n",
              "      <td>1824</td>\n",
              "      <td>188</td>\n",
              "      <td>94.791597</td>\n",
              "      <td>439.183340</td>\n",
              "    </tr>\n",
              "    <tr>\n",
              "      <th>Corporate L3</th>\n",
              "      <td>1014</td>\n",
              "      <td>3023</td>\n",
              "      <td>388</td>\n",
              "      <td>92.141026</td>\n",
              "      <td>422.460088</td>\n",
              "    </tr>\n",
              "    <tr>\n",
              "      <th rowspan=\"3\" valign=\"top\">Personal Auto</th>\n",
              "      <th>Personal L1</th>\n",
              "      <td>1240</td>\n",
              "      <td>3850</td>\n",
              "      <td>431</td>\n",
              "      <td>93.269355</td>\n",
              "      <td>441.062637</td>\n",
              "    </tr>\n",
              "    <tr>\n",
              "      <th>Personal L2</th>\n",
              "      <td>2122</td>\n",
              "      <td>6121</td>\n",
              "      <td>877</td>\n",
              "      <td>92.713007</td>\n",
              "      <td>433.757310</td>\n",
              "    </tr>\n",
              "    <tr>\n",
              "      <th>Personal L3</th>\n",
              "      <td>3426</td>\n",
              "      <td>10161</td>\n",
              "      <td>1347</td>\n",
              "      <td>93.537653</td>\n",
              "      <td>433.235047</td>\n",
              "    </tr>\n",
              "    <tr>\n",
              "      <th rowspan=\"3\" valign=\"top\">Special Auto</th>\n",
              "      <th>Special L1</th>\n",
              "      <td>66</td>\n",
              "      <td>152</td>\n",
              "      <td>28</td>\n",
              "      <td>91.242424</td>\n",
              "      <td>463.236864</td>\n",
              "    </tr>\n",
              "    <tr>\n",
              "      <th>Special L2</th>\n",
              "      <td>164</td>\n",
              "      <td>494</td>\n",
              "      <td>64</td>\n",
              "      <td>93.585366</td>\n",
              "      <td>432.603295</td>\n",
              "    </tr>\n",
              "    <tr>\n",
              "      <th>Special L3</th>\n",
              "      <td>148</td>\n",
              "      <td>442</td>\n",
              "      <td>59</td>\n",
              "      <td>92.912162</td>\n",
              "      <td>439.041442</td>\n",
              "    </tr>\n",
              "  </tbody>\n",
              "</table>\n",
              "</div>"
            ],
            "text/plain": [
              "                             Customer  ...  Total_Claim_Amount\n",
              "Policy_Type    Policy                  ...                    \n",
              "Corporate Auto Corporate L1       359  ...          437.787660\n",
              "               Corporate L2       595  ...          439.183340\n",
              "               Corporate L3      1014  ...          422.460088\n",
              "Personal Auto  Personal L1       1240  ...          441.062637\n",
              "               Personal L2       2122  ...          433.757310\n",
              "               Personal L3       3426  ...          433.235047\n",
              "Special Auto   Special L1          66  ...          463.236864\n",
              "               Special L2         164  ...          432.603295\n",
              "               Special L3         148  ...          439.041442\n",
              "\n",
              "[9 rows x 5 columns]"
            ]
          },
          "metadata": {
            "tags": []
          },
          "execution_count": 17
        }
      ]
    },
    {
      "cell_type": "code",
      "metadata": {
        "id": "dfcu5V4HziAq",
        "colab_type": "code",
        "colab": {}
      },
      "source": [
        "#Converting Date field\n",
        "insurance_df['Effective_To_Date'] = pd.to_datetime(insurance_df['Effective_To_Date'])\n",
        "insurance_df['Year_Month'] = insurance_df['Effective_To_Date'].dt.strftime(('%Y-%m'))"
      ],
      "execution_count": 0,
      "outputs": []
    },
    {
      "cell_type": "code",
      "metadata": {
        "id": "9A_sOcea5zbV",
        "colab_type": "code",
        "colab": {
          "base_uri": "https://localhost:8080/",
          "height": 305
        },
        "outputId": "2f815e3d-3910-4db5-b66c-68b80cbfb653"
      },
      "source": [
        "insurance_df.head()"
      ],
      "execution_count": 81,
      "outputs": [
        {
          "output_type": "execute_result",
          "data": {
            "text/html": [
              "<div>\n",
              "<style scoped>\n",
              "    .dataframe tbody tr th:only-of-type {\n",
              "        vertical-align: middle;\n",
              "    }\n",
              "\n",
              "    .dataframe tbody tr th {\n",
              "        vertical-align: top;\n",
              "    }\n",
              "\n",
              "    .dataframe thead th {\n",
              "        text-align: right;\n",
              "    }\n",
              "</style>\n",
              "<table border=\"1\" class=\"dataframe\">\n",
              "  <thead>\n",
              "    <tr style=\"text-align: right;\">\n",
              "      <th></th>\n",
              "      <th>Customer</th>\n",
              "      <th>State</th>\n",
              "      <th>Customer_Lifetime_Value</th>\n",
              "      <th>Response</th>\n",
              "      <th>Coverage</th>\n",
              "      <th>Education</th>\n",
              "      <th>Effective_To_Date</th>\n",
              "      <th>EmploymentStatus</th>\n",
              "      <th>Gender</th>\n",
              "      <th>Income</th>\n",
              "      <th>Location_Code</th>\n",
              "      <th>Marital_Status</th>\n",
              "      <th>Monthly_Premium_Auto</th>\n",
              "      <th>Months_Since_Last_Claim</th>\n",
              "      <th>Months_Since_Policy_Inception</th>\n",
              "      <th>Number_of_Open_Complaints</th>\n",
              "      <th>Number_of_Policies</th>\n",
              "      <th>Policy_Type</th>\n",
              "      <th>Policy</th>\n",
              "      <th>Renew_Offer_Type</th>\n",
              "      <th>Sales_Channel</th>\n",
              "      <th>Total_Claim_Amount</th>\n",
              "      <th>Vehicle_Class</th>\n",
              "      <th>Vehicle_Size</th>\n",
              "      <th>Year_Month</th>\n",
              "    </tr>\n",
              "  </thead>\n",
              "  <tbody>\n",
              "    <tr>\n",
              "      <th>0</th>\n",
              "      <td>BU79786</td>\n",
              "      <td>Washington</td>\n",
              "      <td>2764</td>\n",
              "      <td>No</td>\n",
              "      <td>Basic</td>\n",
              "      <td>Bachelor</td>\n",
              "      <td>2011-02-24</td>\n",
              "      <td>Employed</td>\n",
              "      <td>F</td>\n",
              "      <td>56274</td>\n",
              "      <td>Suburban</td>\n",
              "      <td>Married</td>\n",
              "      <td>69</td>\n",
              "      <td>32</td>\n",
              "      <td>5</td>\n",
              "      <td>0</td>\n",
              "      <td>1</td>\n",
              "      <td>Corporate Auto</td>\n",
              "      <td>Corporate L3</td>\n",
              "      <td>Offer1</td>\n",
              "      <td>Agent</td>\n",
              "      <td>384.811147</td>\n",
              "      <td>Two-Door Car</td>\n",
              "      <td>Medsize</td>\n",
              "      <td>2011-02</td>\n",
              "    </tr>\n",
              "    <tr>\n",
              "      <th>1</th>\n",
              "      <td>QZ44356</td>\n",
              "      <td>Arizona</td>\n",
              "      <td>6980</td>\n",
              "      <td>No</td>\n",
              "      <td>Extended</td>\n",
              "      <td>Bachelor</td>\n",
              "      <td>2011-01-31</td>\n",
              "      <td>Unemployed</td>\n",
              "      <td>F</td>\n",
              "      <td>0</td>\n",
              "      <td>Suburban</td>\n",
              "      <td>Single</td>\n",
              "      <td>94</td>\n",
              "      <td>13</td>\n",
              "      <td>42</td>\n",
              "      <td>0</td>\n",
              "      <td>8</td>\n",
              "      <td>Personal Auto</td>\n",
              "      <td>Personal L3</td>\n",
              "      <td>Offer3</td>\n",
              "      <td>Agent</td>\n",
              "      <td>1131.464935</td>\n",
              "      <td>Four-Door Car</td>\n",
              "      <td>Medsize</td>\n",
              "      <td>2011-01</td>\n",
              "    </tr>\n",
              "    <tr>\n",
              "      <th>2</th>\n",
              "      <td>AI49188</td>\n",
              "      <td>Nevada</td>\n",
              "      <td>12887</td>\n",
              "      <td>No</td>\n",
              "      <td>Premium</td>\n",
              "      <td>Bachelor</td>\n",
              "      <td>2011-02-19</td>\n",
              "      <td>Employed</td>\n",
              "      <td>F</td>\n",
              "      <td>48767</td>\n",
              "      <td>Suburban</td>\n",
              "      <td>Married</td>\n",
              "      <td>108</td>\n",
              "      <td>18</td>\n",
              "      <td>38</td>\n",
              "      <td>0</td>\n",
              "      <td>2</td>\n",
              "      <td>Personal Auto</td>\n",
              "      <td>Personal L3</td>\n",
              "      <td>Offer1</td>\n",
              "      <td>Agent</td>\n",
              "      <td>566.472247</td>\n",
              "      <td>Two-Door Car</td>\n",
              "      <td>Medsize</td>\n",
              "      <td>2011-02</td>\n",
              "    </tr>\n",
              "    <tr>\n",
              "      <th>3</th>\n",
              "      <td>WW63253</td>\n",
              "      <td>California</td>\n",
              "      <td>7646</td>\n",
              "      <td>No</td>\n",
              "      <td>Basic</td>\n",
              "      <td>Bachelor</td>\n",
              "      <td>2011-01-20</td>\n",
              "      <td>Unemployed</td>\n",
              "      <td>M</td>\n",
              "      <td>0</td>\n",
              "      <td>Suburban</td>\n",
              "      <td>Married</td>\n",
              "      <td>106</td>\n",
              "      <td>18</td>\n",
              "      <td>65</td>\n",
              "      <td>0</td>\n",
              "      <td>7</td>\n",
              "      <td>Corporate Auto</td>\n",
              "      <td>Corporate L2</td>\n",
              "      <td>Offer1</td>\n",
              "      <td>Call Center</td>\n",
              "      <td>529.881344</td>\n",
              "      <td>SUV</td>\n",
              "      <td>Medsize</td>\n",
              "      <td>2011-01</td>\n",
              "    </tr>\n",
              "    <tr>\n",
              "      <th>4</th>\n",
              "      <td>HB64268</td>\n",
              "      <td>Washington</td>\n",
              "      <td>2814</td>\n",
              "      <td>No</td>\n",
              "      <td>Basic</td>\n",
              "      <td>Bachelor</td>\n",
              "      <td>2002-03-11</td>\n",
              "      <td>Employed</td>\n",
              "      <td>M</td>\n",
              "      <td>43836</td>\n",
              "      <td>Rural</td>\n",
              "      <td>Single</td>\n",
              "      <td>73</td>\n",
              "      <td>12</td>\n",
              "      <td>44</td>\n",
              "      <td>0</td>\n",
              "      <td>1</td>\n",
              "      <td>Personal Auto</td>\n",
              "      <td>Personal L1</td>\n",
              "      <td>Offer1</td>\n",
              "      <td>Agent</td>\n",
              "      <td>138.130879</td>\n",
              "      <td>Four-Door Car</td>\n",
              "      <td>Medsize</td>\n",
              "      <td>2002-03</td>\n",
              "    </tr>\n",
              "  </tbody>\n",
              "</table>\n",
              "</div>"
            ],
            "text/plain": [
              "  Customer       State  ...  Vehicle_Size Year_Month\n",
              "0  BU79786  Washington  ...       Medsize    2011-02\n",
              "1  QZ44356     Arizona  ...       Medsize    2011-01\n",
              "2  AI49188      Nevada  ...       Medsize    2011-02\n",
              "3  WW63253  California  ...       Medsize    2011-01\n",
              "4  HB64268  Washington  ...       Medsize    2002-03\n",
              "\n",
              "[5 rows x 25 columns]"
            ]
          },
          "metadata": {
            "tags": []
          },
          "execution_count": 81
        }
      ]
    },
    {
      "cell_type": "markdown",
      "metadata": {
        "id": "TXFMVPMnFm42",
        "colab_type": "text"
      },
      "source": [
        "# Transforming Categorical Data into Numerical Data"
      ]
    },
    {
      "cell_type": "code",
      "metadata": {
        "id": "dl0NUuBw5enO",
        "colab_type": "code",
        "colab": {}
      },
      "source": [
        "insurance_num = insurance_df[['Customer_Lifetime_Value', 'Income', 'Monthly_Premium_Auto', 'Months_Since_Last_Claim', 'Months_Since_Policy_Inception', 'Number_of_Open_Complaints', 'Number_of_Policies', 'Total_Claim_Amount']]\n",
        "insurance_cat = insurance_df[['Customer', 'State', 'Response', 'Coverage', 'Education', 'Effective_To_Date', 'EmploymentStatus', 'Gender', 'Location_Code', 'Marital_Status', 'Policy_Type', 'Policy', 'Renew_Offer_Type', 'Sales_Channel', 'Vehicle_Class', 'Vehicle_Size', 'Year_Month']]"
      ],
      "execution_count": 0,
      "outputs": []
    },
    {
      "cell_type": "code",
      "metadata": {
        "id": "OE15hz8zPLGN",
        "colab_type": "code",
        "colab": {
          "base_uri": "https://localhost:8080/",
          "height": 200
        },
        "outputId": "88ebde71-61e0-4906-e99e-52a81db3f7be"
      },
      "source": [
        "insurance_num.head()"
      ],
      "execution_count": 83,
      "outputs": [
        {
          "output_type": "execute_result",
          "data": {
            "text/html": [
              "<div>\n",
              "<style scoped>\n",
              "    .dataframe tbody tr th:only-of-type {\n",
              "        vertical-align: middle;\n",
              "    }\n",
              "\n",
              "    .dataframe tbody tr th {\n",
              "        vertical-align: top;\n",
              "    }\n",
              "\n",
              "    .dataframe thead th {\n",
              "        text-align: right;\n",
              "    }\n",
              "</style>\n",
              "<table border=\"1\" class=\"dataframe\">\n",
              "  <thead>\n",
              "    <tr style=\"text-align: right;\">\n",
              "      <th></th>\n",
              "      <th>Customer_Lifetime_Value</th>\n",
              "      <th>Income</th>\n",
              "      <th>Monthly_Premium_Auto</th>\n",
              "      <th>Months_Since_Last_Claim</th>\n",
              "      <th>Months_Since_Policy_Inception</th>\n",
              "      <th>Number_of_Open_Complaints</th>\n",
              "      <th>Number_of_Policies</th>\n",
              "      <th>Total_Claim_Amount</th>\n",
              "    </tr>\n",
              "  </thead>\n",
              "  <tbody>\n",
              "    <tr>\n",
              "      <th>0</th>\n",
              "      <td>2764</td>\n",
              "      <td>56274</td>\n",
              "      <td>69</td>\n",
              "      <td>32</td>\n",
              "      <td>5</td>\n",
              "      <td>0</td>\n",
              "      <td>1</td>\n",
              "      <td>384.811147</td>\n",
              "    </tr>\n",
              "    <tr>\n",
              "      <th>1</th>\n",
              "      <td>6980</td>\n",
              "      <td>0</td>\n",
              "      <td>94</td>\n",
              "      <td>13</td>\n",
              "      <td>42</td>\n",
              "      <td>0</td>\n",
              "      <td>8</td>\n",
              "      <td>1131.464935</td>\n",
              "    </tr>\n",
              "    <tr>\n",
              "      <th>2</th>\n",
              "      <td>12887</td>\n",
              "      <td>48767</td>\n",
              "      <td>108</td>\n",
              "      <td>18</td>\n",
              "      <td>38</td>\n",
              "      <td>0</td>\n",
              "      <td>2</td>\n",
              "      <td>566.472247</td>\n",
              "    </tr>\n",
              "    <tr>\n",
              "      <th>3</th>\n",
              "      <td>7646</td>\n",
              "      <td>0</td>\n",
              "      <td>106</td>\n",
              "      <td>18</td>\n",
              "      <td>65</td>\n",
              "      <td>0</td>\n",
              "      <td>7</td>\n",
              "      <td>529.881344</td>\n",
              "    </tr>\n",
              "    <tr>\n",
              "      <th>4</th>\n",
              "      <td>2814</td>\n",
              "      <td>43836</td>\n",
              "      <td>73</td>\n",
              "      <td>12</td>\n",
              "      <td>44</td>\n",
              "      <td>0</td>\n",
              "      <td>1</td>\n",
              "      <td>138.130879</td>\n",
              "    </tr>\n",
              "  </tbody>\n",
              "</table>\n",
              "</div>"
            ],
            "text/plain": [
              "   Customer_Lifetime_Value  Income  ...  Number_of_Policies  Total_Claim_Amount\n",
              "0                     2764   56274  ...                   1          384.811147\n",
              "1                     6980       0  ...                   8         1131.464935\n",
              "2                    12887   48767  ...                   2          566.472247\n",
              "3                     7646       0  ...                   7          529.881344\n",
              "4                     2814   43836  ...                   1          138.130879\n",
              "\n",
              "[5 rows x 8 columns]"
            ]
          },
          "metadata": {
            "tags": []
          },
          "execution_count": 83
        }
      ]
    },
    {
      "cell_type": "code",
      "metadata": {
        "id": "IeyDtC02jjPJ",
        "colab_type": "code",
        "colab": {
          "base_uri": "https://localhost:8080/",
          "height": 305
        },
        "outputId": "93fd1033-a3e9-412a-b7be-b077a391b771"
      },
      "source": [
        "insurance_cat.head()"
      ],
      "execution_count": 84,
      "outputs": [
        {
          "output_type": "execute_result",
          "data": {
            "text/html": [
              "<div>\n",
              "<style scoped>\n",
              "    .dataframe tbody tr th:only-of-type {\n",
              "        vertical-align: middle;\n",
              "    }\n",
              "\n",
              "    .dataframe tbody tr th {\n",
              "        vertical-align: top;\n",
              "    }\n",
              "\n",
              "    .dataframe thead th {\n",
              "        text-align: right;\n",
              "    }\n",
              "</style>\n",
              "<table border=\"1\" class=\"dataframe\">\n",
              "  <thead>\n",
              "    <tr style=\"text-align: right;\">\n",
              "      <th></th>\n",
              "      <th>Customer</th>\n",
              "      <th>State</th>\n",
              "      <th>Response</th>\n",
              "      <th>Coverage</th>\n",
              "      <th>Education</th>\n",
              "      <th>Effective_To_Date</th>\n",
              "      <th>EmploymentStatus</th>\n",
              "      <th>Gender</th>\n",
              "      <th>Location_Code</th>\n",
              "      <th>Marital_Status</th>\n",
              "      <th>Policy_Type</th>\n",
              "      <th>Policy</th>\n",
              "      <th>Renew_Offer_Type</th>\n",
              "      <th>Sales_Channel</th>\n",
              "      <th>Vehicle_Class</th>\n",
              "      <th>Vehicle_Size</th>\n",
              "      <th>Year_Month</th>\n",
              "    </tr>\n",
              "  </thead>\n",
              "  <tbody>\n",
              "    <tr>\n",
              "      <th>0</th>\n",
              "      <td>BU79786</td>\n",
              "      <td>Washington</td>\n",
              "      <td>No</td>\n",
              "      <td>Basic</td>\n",
              "      <td>Bachelor</td>\n",
              "      <td>2011-02-24</td>\n",
              "      <td>Employed</td>\n",
              "      <td>F</td>\n",
              "      <td>Suburban</td>\n",
              "      <td>Married</td>\n",
              "      <td>Corporate Auto</td>\n",
              "      <td>Corporate L3</td>\n",
              "      <td>Offer1</td>\n",
              "      <td>Agent</td>\n",
              "      <td>Two-Door Car</td>\n",
              "      <td>Medsize</td>\n",
              "      <td>2011-02</td>\n",
              "    </tr>\n",
              "    <tr>\n",
              "      <th>1</th>\n",
              "      <td>QZ44356</td>\n",
              "      <td>Arizona</td>\n",
              "      <td>No</td>\n",
              "      <td>Extended</td>\n",
              "      <td>Bachelor</td>\n",
              "      <td>2011-01-31</td>\n",
              "      <td>Unemployed</td>\n",
              "      <td>F</td>\n",
              "      <td>Suburban</td>\n",
              "      <td>Single</td>\n",
              "      <td>Personal Auto</td>\n",
              "      <td>Personal L3</td>\n",
              "      <td>Offer3</td>\n",
              "      <td>Agent</td>\n",
              "      <td>Four-Door Car</td>\n",
              "      <td>Medsize</td>\n",
              "      <td>2011-01</td>\n",
              "    </tr>\n",
              "    <tr>\n",
              "      <th>2</th>\n",
              "      <td>AI49188</td>\n",
              "      <td>Nevada</td>\n",
              "      <td>No</td>\n",
              "      <td>Premium</td>\n",
              "      <td>Bachelor</td>\n",
              "      <td>2011-02-19</td>\n",
              "      <td>Employed</td>\n",
              "      <td>F</td>\n",
              "      <td>Suburban</td>\n",
              "      <td>Married</td>\n",
              "      <td>Personal Auto</td>\n",
              "      <td>Personal L3</td>\n",
              "      <td>Offer1</td>\n",
              "      <td>Agent</td>\n",
              "      <td>Two-Door Car</td>\n",
              "      <td>Medsize</td>\n",
              "      <td>2011-02</td>\n",
              "    </tr>\n",
              "    <tr>\n",
              "      <th>3</th>\n",
              "      <td>WW63253</td>\n",
              "      <td>California</td>\n",
              "      <td>No</td>\n",
              "      <td>Basic</td>\n",
              "      <td>Bachelor</td>\n",
              "      <td>2011-01-20</td>\n",
              "      <td>Unemployed</td>\n",
              "      <td>M</td>\n",
              "      <td>Suburban</td>\n",
              "      <td>Married</td>\n",
              "      <td>Corporate Auto</td>\n",
              "      <td>Corporate L2</td>\n",
              "      <td>Offer1</td>\n",
              "      <td>Call Center</td>\n",
              "      <td>SUV</td>\n",
              "      <td>Medsize</td>\n",
              "      <td>2011-01</td>\n",
              "    </tr>\n",
              "    <tr>\n",
              "      <th>4</th>\n",
              "      <td>HB64268</td>\n",
              "      <td>Washington</td>\n",
              "      <td>No</td>\n",
              "      <td>Basic</td>\n",
              "      <td>Bachelor</td>\n",
              "      <td>2002-03-11</td>\n",
              "      <td>Employed</td>\n",
              "      <td>M</td>\n",
              "      <td>Rural</td>\n",
              "      <td>Single</td>\n",
              "      <td>Personal Auto</td>\n",
              "      <td>Personal L1</td>\n",
              "      <td>Offer1</td>\n",
              "      <td>Agent</td>\n",
              "      <td>Four-Door Car</td>\n",
              "      <td>Medsize</td>\n",
              "      <td>2002-03</td>\n",
              "    </tr>\n",
              "  </tbody>\n",
              "</table>\n",
              "</div>"
            ],
            "text/plain": [
              "  Customer       State Response  ...  Vehicle_Class Vehicle_Size Year_Month\n",
              "0  BU79786  Washington       No  ...   Two-Door Car      Medsize    2011-02\n",
              "1  QZ44356     Arizona       No  ...  Four-Door Car      Medsize    2011-01\n",
              "2  AI49188      Nevada       No  ...   Two-Door Car      Medsize    2011-02\n",
              "3  WW63253  California       No  ...            SUV      Medsize    2011-01\n",
              "4  HB64268  Washington       No  ...  Four-Door Car      Medsize    2002-03\n",
              "\n",
              "[5 rows x 17 columns]"
            ]
          },
          "metadata": {
            "tags": []
          },
          "execution_count": 84
        }
      ]
    },
    {
      "cell_type": "code",
      "metadata": {
        "id": "-StYAgDJj6Hs",
        "colab_type": "code",
        "colab": {
          "base_uri": "https://localhost:8080/",
          "height": 220
        },
        "outputId": "2e4aa446-822a-4447-9368-7f206c9e4f28"
      },
      "source": [
        "#Transforming Categorical Data\n",
        "le = LabelEncoder()\n",
        "insurance_cat = insurance_cat.apply(le.fit_transform)\n",
        "insurance_cat.head()"
      ],
      "execution_count": 8,
      "outputs": [
        {
          "output_type": "execute_result",
          "data": {
            "text/html": [
              "<div>\n",
              "<style scoped>\n",
              "    .dataframe tbody tr th:only-of-type {\n",
              "        vertical-align: middle;\n",
              "    }\n",
              "\n",
              "    .dataframe tbody tr th {\n",
              "        vertical-align: top;\n",
              "    }\n",
              "\n",
              "    .dataframe thead th {\n",
              "        text-align: right;\n",
              "    }\n",
              "</style>\n",
              "<table border=\"1\" class=\"dataframe\">\n",
              "  <thead>\n",
              "    <tr style=\"text-align: right;\">\n",
              "      <th></th>\n",
              "      <th>Customer</th>\n",
              "      <th>State</th>\n",
              "      <th>Response</th>\n",
              "      <th>Coverage</th>\n",
              "      <th>Education</th>\n",
              "      <th>Effective_To_Date</th>\n",
              "      <th>EmploymentStatus</th>\n",
              "      <th>Gender</th>\n",
              "      <th>Location_Code</th>\n",
              "      <th>Marital_Status</th>\n",
              "      <th>Policy_Type</th>\n",
              "      <th>Policy</th>\n",
              "      <th>Renew_Offer_Type</th>\n",
              "      <th>Sales_Channel</th>\n",
              "      <th>Vehicle_Class</th>\n",
              "      <th>Vehicle_Size</th>\n",
              "      <th>Year_Month</th>\n",
              "    </tr>\n",
              "  </thead>\n",
              "  <tbody>\n",
              "    <tr>\n",
              "      <th>0</th>\n",
              "      <td>600</td>\n",
              "      <td>4</td>\n",
              "      <td>0</td>\n",
              "      <td>0</td>\n",
              "      <td>0</td>\n",
              "      <td>54</td>\n",
              "      <td>1</td>\n",
              "      <td>0</td>\n",
              "      <td>1</td>\n",
              "      <td>1</td>\n",
              "      <td>0</td>\n",
              "      <td>2</td>\n",
              "      <td>0</td>\n",
              "      <td>0</td>\n",
              "      <td>5</td>\n",
              "      <td>1</td>\n",
              "      <td>25</td>\n",
              "    </tr>\n",
              "    <tr>\n",
              "      <th>1</th>\n",
              "      <td>5946</td>\n",
              "      <td>0</td>\n",
              "      <td>0</td>\n",
              "      <td>1</td>\n",
              "      <td>0</td>\n",
              "      <td>42</td>\n",
              "      <td>4</td>\n",
              "      <td>0</td>\n",
              "      <td>1</td>\n",
              "      <td>2</td>\n",
              "      <td>1</td>\n",
              "      <td>5</td>\n",
              "      <td>2</td>\n",
              "      <td>0</td>\n",
              "      <td>0</td>\n",
              "      <td>1</td>\n",
              "      <td>24</td>\n",
              "    </tr>\n",
              "    <tr>\n",
              "      <th>2</th>\n",
              "      <td>96</td>\n",
              "      <td>2</td>\n",
              "      <td>0</td>\n",
              "      <td>2</td>\n",
              "      <td>0</td>\n",
              "      <td>49</td>\n",
              "      <td>1</td>\n",
              "      <td>0</td>\n",
              "      <td>1</td>\n",
              "      <td>1</td>\n",
              "      <td>1</td>\n",
              "      <td>5</td>\n",
              "      <td>0</td>\n",
              "      <td>0</td>\n",
              "      <td>5</td>\n",
              "      <td>1</td>\n",
              "      <td>25</td>\n",
              "    </tr>\n",
              "    <tr>\n",
              "      <th>3</th>\n",
              "      <td>8016</td>\n",
              "      <td>1</td>\n",
              "      <td>0</td>\n",
              "      <td>0</td>\n",
              "      <td>0</td>\n",
              "      <td>31</td>\n",
              "      <td>4</td>\n",
              "      <td>1</td>\n",
              "      <td>1</td>\n",
              "      <td>1</td>\n",
              "      <td>0</td>\n",
              "      <td>1</td>\n",
              "      <td>0</td>\n",
              "      <td>2</td>\n",
              "      <td>3</td>\n",
              "      <td>1</td>\n",
              "      <td>24</td>\n",
              "    </tr>\n",
              "    <tr>\n",
              "      <th>4</th>\n",
              "      <td>2488</td>\n",
              "      <td>4</td>\n",
              "      <td>0</td>\n",
              "      <td>0</td>\n",
              "      <td>0</td>\n",
              "      <td>14</td>\n",
              "      <td>1</td>\n",
              "      <td>1</td>\n",
              "      <td>0</td>\n",
              "      <td>2</td>\n",
              "      <td>1</td>\n",
              "      <td>3</td>\n",
              "      <td>0</td>\n",
              "      <td>0</td>\n",
              "      <td>0</td>\n",
              "      <td>1</td>\n",
              "      <td>14</td>\n",
              "    </tr>\n",
              "  </tbody>\n",
              "</table>\n",
              "</div>"
            ],
            "text/plain": [
              "   Customer  State  Response  ...  Vehicle_Class  Vehicle_Size  Year_Month\n",
              "0       600      4         0  ...              5             1          25\n",
              "1      5946      0         0  ...              0             1          24\n",
              "2        96      2         0  ...              5             1          25\n",
              "3      8016      1         0  ...              3             1          24\n",
              "4      2488      4         0  ...              0             1          14\n",
              "\n",
              "[5 rows x 17 columns]"
            ]
          },
          "metadata": {
            "tags": []
          },
          "execution_count": 8
        }
      ]
    },
    {
      "cell_type": "code",
      "metadata": {
        "id": "1wAVqWm39AFJ",
        "colab_type": "code",
        "colab": {
          "base_uri": "https://localhost:8080/",
          "height": 220
        },
        "outputId": "eb0844d6-06b4-407f-8f1a-887d8adcd48e"
      },
      "source": [
        "#Merging Numerical and Categorical data back\n",
        "ins_upd_df = pd.concat([insurance_cat, insurance_num], ignore_index=True,axis = 1)\n",
        "ins_upd_df.columns = ['Customer', 'State', 'Response', 'Coverage', 'Education', 'Effective_To_Date', 'EmploymentStatus', 'Gender', 'Location_Code', 'Marital_Status', 'Policy_Type', 'Policy', 'Renew_Offer_Type', 'Sales_Channel', 'Vehicle_Class', 'Vehicle_Size', 'Year_Month', 'Customer_Lifetime_Value', 'Income', 'Monthly_Premium_Auto', 'Months_Since_Last_Claim', 'Months_Since_Policy_Inception', 'Number_of_Open_Complaints', 'Number_of_Policies', 'Total_Claim_Amount']\n",
        "ins_upd_df.head()"
      ],
      "execution_count": 9,
      "outputs": [
        {
          "output_type": "execute_result",
          "data": {
            "text/html": [
              "<div>\n",
              "<style scoped>\n",
              "    .dataframe tbody tr th:only-of-type {\n",
              "        vertical-align: middle;\n",
              "    }\n",
              "\n",
              "    .dataframe tbody tr th {\n",
              "        vertical-align: top;\n",
              "    }\n",
              "\n",
              "    .dataframe thead th {\n",
              "        text-align: right;\n",
              "    }\n",
              "</style>\n",
              "<table border=\"1\" class=\"dataframe\">\n",
              "  <thead>\n",
              "    <tr style=\"text-align: right;\">\n",
              "      <th></th>\n",
              "      <th>Customer</th>\n",
              "      <th>State</th>\n",
              "      <th>Response</th>\n",
              "      <th>Coverage</th>\n",
              "      <th>Education</th>\n",
              "      <th>Effective_To_Date</th>\n",
              "      <th>EmploymentStatus</th>\n",
              "      <th>Gender</th>\n",
              "      <th>Location_Code</th>\n",
              "      <th>Marital_Status</th>\n",
              "      <th>Policy_Type</th>\n",
              "      <th>Policy</th>\n",
              "      <th>Renew_Offer_Type</th>\n",
              "      <th>Sales_Channel</th>\n",
              "      <th>Vehicle_Class</th>\n",
              "      <th>Vehicle_Size</th>\n",
              "      <th>Year_Month</th>\n",
              "      <th>Customer_Lifetime_Value</th>\n",
              "      <th>Income</th>\n",
              "      <th>Monthly_Premium_Auto</th>\n",
              "      <th>Months_Since_Last_Claim</th>\n",
              "      <th>Months_Since_Policy_Inception</th>\n",
              "      <th>Number_of_Open_Complaints</th>\n",
              "      <th>Number_of_Policies</th>\n",
              "      <th>Total_Claim_Amount</th>\n",
              "    </tr>\n",
              "  </thead>\n",
              "  <tbody>\n",
              "    <tr>\n",
              "      <th>0</th>\n",
              "      <td>600</td>\n",
              "      <td>4</td>\n",
              "      <td>0</td>\n",
              "      <td>0</td>\n",
              "      <td>0</td>\n",
              "      <td>54</td>\n",
              "      <td>1</td>\n",
              "      <td>0</td>\n",
              "      <td>1</td>\n",
              "      <td>1</td>\n",
              "      <td>0</td>\n",
              "      <td>2</td>\n",
              "      <td>0</td>\n",
              "      <td>0</td>\n",
              "      <td>5</td>\n",
              "      <td>1</td>\n",
              "      <td>25</td>\n",
              "      <td>2764</td>\n",
              "      <td>56274</td>\n",
              "      <td>69</td>\n",
              "      <td>32</td>\n",
              "      <td>5</td>\n",
              "      <td>0</td>\n",
              "      <td>1</td>\n",
              "      <td>384.811147</td>\n",
              "    </tr>\n",
              "    <tr>\n",
              "      <th>1</th>\n",
              "      <td>5946</td>\n",
              "      <td>0</td>\n",
              "      <td>0</td>\n",
              "      <td>1</td>\n",
              "      <td>0</td>\n",
              "      <td>42</td>\n",
              "      <td>4</td>\n",
              "      <td>0</td>\n",
              "      <td>1</td>\n",
              "      <td>2</td>\n",
              "      <td>1</td>\n",
              "      <td>5</td>\n",
              "      <td>2</td>\n",
              "      <td>0</td>\n",
              "      <td>0</td>\n",
              "      <td>1</td>\n",
              "      <td>24</td>\n",
              "      <td>6980</td>\n",
              "      <td>0</td>\n",
              "      <td>94</td>\n",
              "      <td>13</td>\n",
              "      <td>42</td>\n",
              "      <td>0</td>\n",
              "      <td>8</td>\n",
              "      <td>1131.464935</td>\n",
              "    </tr>\n",
              "    <tr>\n",
              "      <th>2</th>\n",
              "      <td>96</td>\n",
              "      <td>2</td>\n",
              "      <td>0</td>\n",
              "      <td>2</td>\n",
              "      <td>0</td>\n",
              "      <td>49</td>\n",
              "      <td>1</td>\n",
              "      <td>0</td>\n",
              "      <td>1</td>\n",
              "      <td>1</td>\n",
              "      <td>1</td>\n",
              "      <td>5</td>\n",
              "      <td>0</td>\n",
              "      <td>0</td>\n",
              "      <td>5</td>\n",
              "      <td>1</td>\n",
              "      <td>25</td>\n",
              "      <td>12887</td>\n",
              "      <td>48767</td>\n",
              "      <td>108</td>\n",
              "      <td>18</td>\n",
              "      <td>38</td>\n",
              "      <td>0</td>\n",
              "      <td>2</td>\n",
              "      <td>566.472247</td>\n",
              "    </tr>\n",
              "    <tr>\n",
              "      <th>3</th>\n",
              "      <td>8016</td>\n",
              "      <td>1</td>\n",
              "      <td>0</td>\n",
              "      <td>0</td>\n",
              "      <td>0</td>\n",
              "      <td>31</td>\n",
              "      <td>4</td>\n",
              "      <td>1</td>\n",
              "      <td>1</td>\n",
              "      <td>1</td>\n",
              "      <td>0</td>\n",
              "      <td>1</td>\n",
              "      <td>0</td>\n",
              "      <td>2</td>\n",
              "      <td>3</td>\n",
              "      <td>1</td>\n",
              "      <td>24</td>\n",
              "      <td>7646</td>\n",
              "      <td>0</td>\n",
              "      <td>106</td>\n",
              "      <td>18</td>\n",
              "      <td>65</td>\n",
              "      <td>0</td>\n",
              "      <td>7</td>\n",
              "      <td>529.881344</td>\n",
              "    </tr>\n",
              "    <tr>\n",
              "      <th>4</th>\n",
              "      <td>2488</td>\n",
              "      <td>4</td>\n",
              "      <td>0</td>\n",
              "      <td>0</td>\n",
              "      <td>0</td>\n",
              "      <td>14</td>\n",
              "      <td>1</td>\n",
              "      <td>1</td>\n",
              "      <td>0</td>\n",
              "      <td>2</td>\n",
              "      <td>1</td>\n",
              "      <td>3</td>\n",
              "      <td>0</td>\n",
              "      <td>0</td>\n",
              "      <td>0</td>\n",
              "      <td>1</td>\n",
              "      <td>14</td>\n",
              "      <td>2814</td>\n",
              "      <td>43836</td>\n",
              "      <td>73</td>\n",
              "      <td>12</td>\n",
              "      <td>44</td>\n",
              "      <td>0</td>\n",
              "      <td>1</td>\n",
              "      <td>138.130879</td>\n",
              "    </tr>\n",
              "  </tbody>\n",
              "</table>\n",
              "</div>"
            ],
            "text/plain": [
              "   Customer  State  ...  Number_of_Policies  Total_Claim_Amount\n",
              "0       600      4  ...                   1          384.811147\n",
              "1      5946      0  ...                   8         1131.464935\n",
              "2        96      2  ...                   2          566.472247\n",
              "3      8016      1  ...                   7          529.881344\n",
              "4      2488      4  ...                   1          138.130879\n",
              "\n",
              "[5 rows x 25 columns]"
            ]
          },
          "metadata": {
            "tags": []
          },
          "execution_count": 9
        }
      ]
    },
    {
      "cell_type": "code",
      "metadata": {
        "id": "Wkjud6kf6tO6",
        "colab_type": "code",
        "colab": {
          "base_uri": "https://localhost:8080/",
          "height": 35
        },
        "outputId": "edf36194-0fc5-490d-a555-74c136cd599e"
      },
      "source": [
        "ins_upd_df.shape"
      ],
      "execution_count": 10,
      "outputs": [
        {
          "output_type": "execute_result",
          "data": {
            "text/plain": [
              "(9134, 25)"
            ]
          },
          "metadata": {
            "tags": []
          },
          "execution_count": 10
        }
      ]
    },
    {
      "cell_type": "markdown",
      "metadata": {
        "id": "oBI1u42r8TP1",
        "colab_type": "text"
      },
      "source": [
        "#Plotting Numerical Data"
      ]
    },
    {
      "cell_type": "code",
      "metadata": {
        "id": "SxgzJplcyBX8",
        "colab_type": "code",
        "colab": {
          "base_uri": "https://localhost:8080/",
          "height": 1000
        },
        "outputId": "56a38b3b-3b46-49b0-85e2-1ab3078338b7"
      },
      "source": [
        "#Plotting numerical data\n",
        "for column in insurance_num:\n",
        "  sns.distplot(insurance_num[column], kde=False)\n",
        "  plt.title(f'{column}')\n",
        "  plt.show()"
      ],
      "execution_count": 87,
      "outputs": [
        {
          "output_type": "display_data",
          "data": {
            "image/png": "[encoded data removed]",
            "text/plain": [
              "<Figure size 432x288 with 1 Axes>"
            ]
          },
          "metadata": {
            "tags": []
          }
        },
        {
          "output_type": "display_data",
          "data": {
            "image/png": "[encoded data removed]",
            "text/plain": [
              "<Figure size 432x288 with 1 Axes>"
            ]
          },
          "metadata": {
            "tags": []
          }
        },
        {
          "output_type": "display_data",
          "data": {
            "image/png": "[encoded data removed]",
            "text/plain": [
              "<Figure size 432x288 with 1 Axes>"
            ]
          },
          "metadata": {
            "tags": []
          }
        },
        {
          "output_type": "display_data",
          "data": {
            "image/png": "[encoded data removed]",
            "text/plain": [
              "<Figure size 432x288 with 1 Axes>"
            ]
          },
          "metadata": {
            "tags": []
          }
        },
        {
          "output_type": "display_data",
          "data": {
            "image/png": "[encoded data removed]",
            "text/plain": [
              "<Figure size 432x288 with 1 Axes>"
            ]
          },
          "metadata": {
            "tags": []
          }
        },
        {
          "output_type": "display_data",
          "data": {
            "image/png": "[encoded data removed]",
            "text/plain": [
              "<Figure size 432x288 with 1 Axes>"
            ]
          },
          "metadata": {
            "tags": []
          }
        },
        {
          "output_type": "display_data",
          "data": {
            "image/png": "[encoded data removed]",
            "text/plain": [
              "<Figure size 432x288 with 1 Axes>"
            ]
          },
          "metadata": {
            "tags": []
          }
        },
        {
          "output_type": "display_data",
          "data": {
            "image/png": "[encoded data removed]",
            "text/plain": [
              "<Figure size 432x288 with 1 Axes>"
            ]
          },
          "metadata": {
            "tags": []
          }
        }
      ]
    },
    {
      "cell_type": "markdown",
      "metadata": {
        "id": "tIGvY9xy03YK",
        "colab_type": "text"
      },
      "source": [
        "#Clustering Using KPrototypes"
      ]
    },
    {
      "cell_type": "code",
      "metadata": {
        "id": "cKlgn0UP08vQ",
        "colab_type": "code",
        "colab": {}
      },
      "source": [
        "#Set variable\n",
        "X = ins_upd_df"
      ],
      "execution_count": 0,
      "outputs": []
    },
    {
      "cell_type": "code",
      "metadata": {
        "id": "nl2Lu2M_1_12",
        "colab_type": "code",
        "colab": {}
      },
      "source": [
        "#Scale the data\n",
        "std_scale = StandardScaler()\n",
        "\n",
        "#fit and transform the data at the same time\n",
        "X_scale = std_scale.fit_transform(X)"
      ],
      "execution_count": 0,
      "outputs": []
    },
    {
      "cell_type": "code",
      "metadata": {
        "id": "sWE9FnWnW6rX",
        "colab_type": "code",
        "colab": {}
      },
      "source": [
        "#Running KPrototype Clustering, n_clusters=8, init='Cao' - Default\n",
        "kproto = KPrototypes(n_clusters=8, init='Cao')\n",
        "clusters = kproto.fit_predict(X_scale, categorical=[0,1,2,3,4,5,6,7,8,9,10,11,12,13,14,15,16])"
      ],
      "execution_count": 0,
      "outputs": []
    },
    {
      "cell_type": "code",
      "metadata": {
        "id": "lwxjeOo1aECJ",
        "colab_type": "code",
        "colab": {
          "base_uri": "https://localhost:8080/",
          "height": 870
        },
        "outputId": "8321dab3-b67c-47a3-cfa2-f7b6c09eb035"
      },
      "source": [
        "kproto.cluster_centroids_"
      ],
      "execution_count": 97,
      "outputs": [
        {
          "output_type": "execute_result",
          "data": {
            "text/plain": [
              "[array([[ 3.01275045,  0.04142745,  0.38640906, -0.00922969, -0.01524777,\n",
              "         -0.14541027, -0.40424676,  0.1193418 ],\n",
              "        [-0.20272464, -0.02333662, -0.21672638,  0.03094651, -0.08346538,\n",
              "         -0.2225226 ,  1.90937626, -0.15011914],\n",
              "        [-0.2460648 ,  0.88139556, -0.24242448, -0.19798747,  0.92244554,\n",
              "         -0.28011617, -0.36344041, -0.62315902],\n",
              "        [-0.24595499,  0.66530093, -0.24087268, -0.1212815 , -0.93545589,\n",
              "         -0.27436237, -0.4150696 , -0.42351313],\n",
              "        [-0.25896749,  0.07928854, -0.20922848, -0.01342036,  0.03894195,\n",
              "          2.94583328, -0.04052655, -0.20065115],\n",
              "        [-0.20455824, -0.93714021, -0.07904472, -0.75137716,  0.24302779,\n",
              "         -0.26841647, -0.33520094,  0.39626904],\n",
              "        [-0.23963985, -0.7065008 , -0.16248806,  1.13593085, -0.09104452,\n",
              "         -0.21870886, -0.39921647,  0.14609319],\n",
              "        [ 0.88199127, -0.23531709,  3.03505959,  0.04418229,  0.05247072,\n",
              "         -0.05041275,  0.05766067,  2.537106  ]]),\n",
              " array([[-1.73110268, -0.57601447, -0.40882171, -0.73289946, -1.12459723,\n",
              "          0.76297758, -0.61266909, -0.98026906,  0.03452354, -0.18877123,\n",
              "          0.36573219,  0.7486263 , -0.96297912, -1.03113846,  0.53433898,\n",
              "         -0.16668206,  0.61710664],\n",
              "        [-1.72427612, -0.57601447, -0.40882171, -0.73289946, -1.12459723,\n",
              "          0.46821147, -0.61266909,  1.02012808,  0.03452354, -0.18877123,\n",
              "          0.36573219,  0.7486263 , -0.96297912, -1.03113846, -0.91292371,\n",
              "         -0.16668206,  0.61710664],\n",
              "        [-1.70303792,  0.97714159, -0.40882171, -0.73289946, -0.40095714,\n",
              "          0.88088403, -0.61266909, -0.98026906, -1.6164606 , -0.18877123,\n",
              "          0.36573219,  0.7486263 ,  0.02955657, -1.03113846, -0.91292371,\n",
              "         -0.16668206,  0.61710664],\n",
              "        [-1.72958567, -0.57601447, -0.40882171, -0.73289946, -0.40095714,\n",
              "         -1.47724486, -0.61266909, -0.98026906,  0.03452354, -0.18877123,\n",
              "          0.36573219,  0.7486263 ,  0.02955657, -1.03113846, -0.91292371,\n",
              "         -0.16668206,  0.61710664],\n",
              "        [-1.67952421, -0.57601447, -0.40882171, -0.73289946, -1.12459723,\n",
              "          1.17565014, -0.61266909, -0.98026906,  0.03452354, -0.18877123,\n",
              "          0.36573219,  0.7486263 , -0.96297912, -1.03113846, -0.91292371,\n",
              "         -0.16668206,  0.61710664],\n",
              "        [-1.72996492, -0.57601447, -0.40882171, -0.73289946,  1.04632304,\n",
              "          0.5271647 ,  1.6133132 , -0.98026906,  0.03452354,  1.3815716 ,\n",
              "          0.36573219,  0.7486263 , -0.96297912, -1.03113846, -0.91292371,\n",
              "         -0.16668206,  0.61710664],\n",
              "        [-1.72351761, -0.57601447, -0.40882171, -0.73289946, -1.12459723,\n",
              "         -0.06236753,  1.6133132 ,  1.02012808,  0.03452354, -0.18877123,\n",
              "          0.36573219,  0.7486263 , -0.96297912, -1.03113846, -0.91292371,\n",
              "         -0.16668206,  0.61710664],\n",
              "        [-1.73034418, -0.57601447, -0.40882171,  2.31689721,  1.04632304,\n",
              "          0.35030503, -0.61266909,  1.02012808,  0.03452354, -0.18877123,\n",
              "          0.36573219,  0.7486263 , -0.96297912, -1.03113846,  0.05191808,\n",
              "         -0.16668206,  0.61710664]])]"
            ]
          },
          "metadata": {
            "tags": []
          },
          "execution_count": 97
        }
      ]
    },
    {
      "cell_type": "code",
      "metadata": {
        "id": "bMgts1h2dZrC",
        "colab_type": "code",
        "colab": {
          "base_uri": "https://localhost:8080/",
          "height": 35
        },
        "outputId": "81eb7b66-9f87-4b7c-bebd-0b3a29e25d90"
      },
      "source": [
        "#Checking the cost of the clusters created.\n",
        "kproto.cost_"
      ],
      "execution_count": 98,
      "outputs": [
        {
          "output_type": "execute_result",
          "data": {
            "text/plain": [
              "77156.13521979943"
            ]
          },
          "metadata": {
            "tags": []
          },
          "execution_count": 98
        }
      ]
    },
    {
      "cell_type": "code",
      "metadata": {
        "id": "Y5T_pZEldmXo",
        "colab_type": "code",
        "colab": {}
      },
      "source": [
        "#Adding the predicted clusters to the main dataset\n",
        "ins_upd_df['cluster_id'] = clusters"
      ],
      "execution_count": 0,
      "outputs": []
    },
    {
      "cell_type": "code",
      "metadata": {
        "id": "BmNXEyRJdxu1",
        "colab_type": "code",
        "colab": {
          "base_uri": "https://localhost:8080/",
          "height": 220
        },
        "outputId": "2d39f3fe-3de3-410b-9e51-00c709b73514"
      },
      "source": [
        "ins_upd_df.head()"
      ],
      "execution_count": 100,
      "outputs": [
        {
          "output_type": "execute_result",
          "data": {
            "text/html": [
              "<div>\n",
              "<style scoped>\n",
              "    .dataframe tbody tr th:only-of-type {\n",
              "        vertical-align: middle;\n",
              "    }\n",
              "\n",
              "    .dataframe tbody tr th {\n",
              "        vertical-align: top;\n",
              "    }\n",
              "\n",
              "    .dataframe thead th {\n",
              "        text-align: right;\n",
              "    }\n",
              "</style>\n",
              "<table border=\"1\" class=\"dataframe\">\n",
              "  <thead>\n",
              "    <tr style=\"text-align: right;\">\n",
              "      <th></th>\n",
              "      <th>Customer</th>\n",
              "      <th>State</th>\n",
              "      <th>Response</th>\n",
              "      <th>Coverage</th>\n",
              "      <th>Education</th>\n",
              "      <th>Effective_To_Date</th>\n",
              "      <th>EmploymentStatus</th>\n",
              "      <th>Gender</th>\n",
              "      <th>Location_Code</th>\n",
              "      <th>Marital_Status</th>\n",
              "      <th>Policy_Type</th>\n",
              "      <th>Policy</th>\n",
              "      <th>Renew_Offer_Type</th>\n",
              "      <th>Sales_Channel</th>\n",
              "      <th>Vehicle_Class</th>\n",
              "      <th>Vehicle_Size</th>\n",
              "      <th>Year_Month</th>\n",
              "      <th>Customer_Lifetime_Value</th>\n",
              "      <th>Income</th>\n",
              "      <th>Monthly_Premium_Auto</th>\n",
              "      <th>Months_Since_Last_Claim</th>\n",
              "      <th>Months_Since_Policy_Inception</th>\n",
              "      <th>Number_of_Open_Complaints</th>\n",
              "      <th>Number_of_Policies</th>\n",
              "      <th>Total_Claim_Amount</th>\n",
              "      <th>cluster_id</th>\n",
              "    </tr>\n",
              "  </thead>\n",
              "  <tbody>\n",
              "    <tr>\n",
              "      <th>0</th>\n",
              "      <td>600</td>\n",
              "      <td>4</td>\n",
              "      <td>0</td>\n",
              "      <td>0</td>\n",
              "      <td>0</td>\n",
              "      <td>54</td>\n",
              "      <td>1</td>\n",
              "      <td>0</td>\n",
              "      <td>1</td>\n",
              "      <td>1</td>\n",
              "      <td>0</td>\n",
              "      <td>2</td>\n",
              "      <td>0</td>\n",
              "      <td>0</td>\n",
              "      <td>5</td>\n",
              "      <td>1</td>\n",
              "      <td>25</td>\n",
              "      <td>2764</td>\n",
              "      <td>56274</td>\n",
              "      <td>69</td>\n",
              "      <td>32</td>\n",
              "      <td>5</td>\n",
              "      <td>0</td>\n",
              "      <td>1</td>\n",
              "      <td>384.811147</td>\n",
              "      <td>3</td>\n",
              "    </tr>\n",
              "    <tr>\n",
              "      <th>1</th>\n",
              "      <td>5946</td>\n",
              "      <td>0</td>\n",
              "      <td>0</td>\n",
              "      <td>1</td>\n",
              "      <td>0</td>\n",
              "      <td>42</td>\n",
              "      <td>4</td>\n",
              "      <td>0</td>\n",
              "      <td>1</td>\n",
              "      <td>2</td>\n",
              "      <td>1</td>\n",
              "      <td>5</td>\n",
              "      <td>2</td>\n",
              "      <td>0</td>\n",
              "      <td>0</td>\n",
              "      <td>1</td>\n",
              "      <td>24</td>\n",
              "      <td>6980</td>\n",
              "      <td>0</td>\n",
              "      <td>94</td>\n",
              "      <td>13</td>\n",
              "      <td>42</td>\n",
              "      <td>0</td>\n",
              "      <td>8</td>\n",
              "      <td>1131.464935</td>\n",
              "      <td>1</td>\n",
              "    </tr>\n",
              "    <tr>\n",
              "      <th>2</th>\n",
              "      <td>96</td>\n",
              "      <td>2</td>\n",
              "      <td>0</td>\n",
              "      <td>2</td>\n",
              "      <td>0</td>\n",
              "      <td>49</td>\n",
              "      <td>1</td>\n",
              "      <td>0</td>\n",
              "      <td>1</td>\n",
              "      <td>1</td>\n",
              "      <td>1</td>\n",
              "      <td>5</td>\n",
              "      <td>0</td>\n",
              "      <td>0</td>\n",
              "      <td>5</td>\n",
              "      <td>1</td>\n",
              "      <td>25</td>\n",
              "      <td>12887</td>\n",
              "      <td>48767</td>\n",
              "      <td>108</td>\n",
              "      <td>18</td>\n",
              "      <td>38</td>\n",
              "      <td>0</td>\n",
              "      <td>2</td>\n",
              "      <td>566.472247</td>\n",
              "      <td>3</td>\n",
              "    </tr>\n",
              "    <tr>\n",
              "      <th>3</th>\n",
              "      <td>8016</td>\n",
              "      <td>1</td>\n",
              "      <td>0</td>\n",
              "      <td>0</td>\n",
              "      <td>0</td>\n",
              "      <td>31</td>\n",
              "      <td>4</td>\n",
              "      <td>1</td>\n",
              "      <td>1</td>\n",
              "      <td>1</td>\n",
              "      <td>0</td>\n",
              "      <td>1</td>\n",
              "      <td>0</td>\n",
              "      <td>2</td>\n",
              "      <td>3</td>\n",
              "      <td>1</td>\n",
              "      <td>24</td>\n",
              "      <td>7646</td>\n",
              "      <td>0</td>\n",
              "      <td>106</td>\n",
              "      <td>18</td>\n",
              "      <td>65</td>\n",
              "      <td>0</td>\n",
              "      <td>7</td>\n",
              "      <td>529.881344</td>\n",
              "      <td>1</td>\n",
              "    </tr>\n",
              "    <tr>\n",
              "      <th>4</th>\n",
              "      <td>2488</td>\n",
              "      <td>4</td>\n",
              "      <td>0</td>\n",
              "      <td>0</td>\n",
              "      <td>0</td>\n",
              "      <td>14</td>\n",
              "      <td>1</td>\n",
              "      <td>1</td>\n",
              "      <td>0</td>\n",
              "      <td>2</td>\n",
              "      <td>1</td>\n",
              "      <td>3</td>\n",
              "      <td>0</td>\n",
              "      <td>0</td>\n",
              "      <td>0</td>\n",
              "      <td>1</td>\n",
              "      <td>14</td>\n",
              "      <td>2814</td>\n",
              "      <td>43836</td>\n",
              "      <td>73</td>\n",
              "      <td>12</td>\n",
              "      <td>44</td>\n",
              "      <td>0</td>\n",
              "      <td>1</td>\n",
              "      <td>138.130879</td>\n",
              "      <td>3</td>\n",
              "    </tr>\n",
              "  </tbody>\n",
              "</table>\n",
              "</div>"
            ],
            "text/plain": [
              "   Customer  State  ...  Total_Claim_Amount  cluster_id\n",
              "0       600      4  ...          384.811147           3\n",
              "1      5946      0  ...         1131.464935           1\n",
              "2        96      2  ...          566.472247           3\n",
              "3      8016      1  ...          529.881344           1\n",
              "4      2488      4  ...          138.130879           3\n",
              "\n",
              "[5 rows x 26 columns]"
            ]
          },
          "metadata": {
            "tags": []
          },
          "execution_count": 100
        }
      ]
    },
    {
      "cell_type": "code",
      "metadata": {
        "id": "zn4aIwLVeA70",
        "colab_type": "code",
        "colab": {
          "base_uri": "https://localhost:8080/",
          "height": 291
        },
        "outputId": "614f2525-8343-4cc5-8118-196a3b5b959b"
      },
      "source": [
        "#Checking the clusters created\n",
        "ins_clusters = pd.DataFrame(ins_upd_df['cluster_id'].value_counts())\n",
        "ins_clusters"
      ],
      "execution_count": 101,
      "outputs": [
        {
          "output_type": "execute_result",
          "data": {
            "text/html": [
              "<div>\n",
              "<style scoped>\n",
              "    .dataframe tbody tr th:only-of-type {\n",
              "        vertical-align: middle;\n",
              "    }\n",
              "\n",
              "    .dataframe tbody tr th {\n",
              "        vertical-align: top;\n",
              "    }\n",
              "\n",
              "    .dataframe thead th {\n",
              "        text-align: right;\n",
              "    }\n",
              "</style>\n",
              "<table border=\"1\" class=\"dataframe\">\n",
              "  <thead>\n",
              "    <tr style=\"text-align: right;\">\n",
              "      <th></th>\n",
              "      <th>cluster_id</th>\n",
              "    </tr>\n",
              "  </thead>\n",
              "  <tbody>\n",
              "    <tr>\n",
              "      <th>3</th>\n",
              "      <td>1701</td>\n",
              "    </tr>\n",
              "    <tr>\n",
              "      <th>2</th>\n",
              "      <td>1538</td>\n",
              "    </tr>\n",
              "    <tr>\n",
              "      <th>5</th>\n",
              "      <td>1521</td>\n",
              "    </tr>\n",
              "    <tr>\n",
              "      <th>6</th>\n",
              "      <td>1414</td>\n",
              "    </tr>\n",
              "    <tr>\n",
              "      <th>1</th>\n",
              "      <td>1331</td>\n",
              "    </tr>\n",
              "    <tr>\n",
              "      <th>4</th>\n",
              "      <td>681</td>\n",
              "    </tr>\n",
              "    <tr>\n",
              "      <th>0</th>\n",
              "      <td>496</td>\n",
              "    </tr>\n",
              "    <tr>\n",
              "      <th>7</th>\n",
              "      <td>452</td>\n",
              "    </tr>\n",
              "  </tbody>\n",
              "</table>\n",
              "</div>"
            ],
            "text/plain": [
              "   cluster_id\n",
              "3        1701\n",
              "2        1538\n",
              "5        1521\n",
              "6        1414\n",
              "1        1331\n",
              "4         681\n",
              "0         496\n",
              "7         452"
            ]
          },
          "metadata": {
            "tags": []
          },
          "execution_count": 101
        }
      ]
    },
    {
      "cell_type": "code",
      "metadata": {
        "id": "ouULqe5eeg_z",
        "colab_type": "code",
        "colab": {
          "base_uri": "https://localhost:8080/",
          "height": 265
        },
        "outputId": "0ff369f5-4415-4e9d-b4c5-6c1d7cb4c2ff"
      },
      "source": [
        "sns.barplot(x=ins_clusters.index, y=ins_clusters['cluster_id']);"
      ],
      "execution_count": 102,
      "outputs": [
        {
          "output_type": "display_data",
          "data": {
            "image/png": "[encoded data removed]",
            "text/plain": [
              "<Figure size 432x288 with 1 Axes>"
            ]
          },
          "metadata": {
            "tags": []
          }
        }
      ]
    },
    {
      "cell_type": "code",
      "metadata": {
        "id": "IbkZljUqXaqs",
        "colab_type": "code",
        "colab": {
          "base_uri": "https://localhost:8080/",
          "height": 220
        },
        "outputId": "8c7692f2-ed17-4a54-96a1-e853f48f4cc8"
      },
      "source": [
        "ins_upd_df.head()"
      ],
      "execution_count": 104,
      "outputs": [
        {
          "output_type": "execute_result",
          "data": {
            "text/html": [
              "<div>\n",
              "<style scoped>\n",
              "    .dataframe tbody tr th:only-of-type {\n",
              "        vertical-align: middle;\n",
              "    }\n",
              "\n",
              "    .dataframe tbody tr th {\n",
              "        vertical-align: top;\n",
              "    }\n",
              "\n",
              "    .dataframe thead th {\n",
              "        text-align: right;\n",
              "    }\n",
              "</style>\n",
              "<table border=\"1\" class=\"dataframe\">\n",
              "  <thead>\n",
              "    <tr style=\"text-align: right;\">\n",
              "      <th></th>\n",
              "      <th>Customer</th>\n",
              "      <th>State</th>\n",
              "      <th>Response</th>\n",
              "      <th>Coverage</th>\n",
              "      <th>Education</th>\n",
              "      <th>Effective_To_Date</th>\n",
              "      <th>EmploymentStatus</th>\n",
              "      <th>Gender</th>\n",
              "      <th>Location_Code</th>\n",
              "      <th>Marital_Status</th>\n",
              "      <th>Policy_Type</th>\n",
              "      <th>Policy</th>\n",
              "      <th>Renew_Offer_Type</th>\n",
              "      <th>Sales_Channel</th>\n",
              "      <th>Vehicle_Class</th>\n",
              "      <th>Vehicle_Size</th>\n",
              "      <th>Year_Month</th>\n",
              "      <th>Customer_Lifetime_Value</th>\n",
              "      <th>Income</th>\n",
              "      <th>Monthly_Premium_Auto</th>\n",
              "      <th>Months_Since_Last_Claim</th>\n",
              "      <th>Months_Since_Policy_Inception</th>\n",
              "      <th>Number_of_Open_Complaints</th>\n",
              "      <th>Number_of_Policies</th>\n",
              "      <th>Total_Claim_Amount</th>\n",
              "      <th>cluster_id</th>\n",
              "    </tr>\n",
              "  </thead>\n",
              "  <tbody>\n",
              "    <tr>\n",
              "      <th>0</th>\n",
              "      <td>600</td>\n",
              "      <td>4</td>\n",
              "      <td>0</td>\n",
              "      <td>0</td>\n",
              "      <td>0</td>\n",
              "      <td>54</td>\n",
              "      <td>1</td>\n",
              "      <td>0</td>\n",
              "      <td>1</td>\n",
              "      <td>1</td>\n",
              "      <td>0</td>\n",
              "      <td>2</td>\n",
              "      <td>0</td>\n",
              "      <td>0</td>\n",
              "      <td>5</td>\n",
              "      <td>1</td>\n",
              "      <td>25</td>\n",
              "      <td>2764</td>\n",
              "      <td>56274</td>\n",
              "      <td>69</td>\n",
              "      <td>32</td>\n",
              "      <td>5</td>\n",
              "      <td>0</td>\n",
              "      <td>1</td>\n",
              "      <td>384.811147</td>\n",
              "      <td>3</td>\n",
              "    </tr>\n",
              "    <tr>\n",
              "      <th>1</th>\n",
              "      <td>5946</td>\n",
              "      <td>0</td>\n",
              "      <td>0</td>\n",
              "      <td>1</td>\n",
              "      <td>0</td>\n",
              "      <td>42</td>\n",
              "      <td>4</td>\n",
              "      <td>0</td>\n",
              "      <td>1</td>\n",
              "      <td>2</td>\n",
              "      <td>1</td>\n",
              "      <td>5</td>\n",
              "      <td>2</td>\n",
              "      <td>0</td>\n",
              "      <td>0</td>\n",
              "      <td>1</td>\n",
              "      <td>24</td>\n",
              "      <td>6980</td>\n",
              "      <td>0</td>\n",
              "      <td>94</td>\n",
              "      <td>13</td>\n",
              "      <td>42</td>\n",
              "      <td>0</td>\n",
              "      <td>8</td>\n",
              "      <td>1131.464935</td>\n",
              "      <td>1</td>\n",
              "    </tr>\n",
              "    <tr>\n",
              "      <th>2</th>\n",
              "      <td>96</td>\n",
              "      <td>2</td>\n",
              "      <td>0</td>\n",
              "      <td>2</td>\n",
              "      <td>0</td>\n",
              "      <td>49</td>\n",
              "      <td>1</td>\n",
              "      <td>0</td>\n",
              "      <td>1</td>\n",
              "      <td>1</td>\n",
              "      <td>1</td>\n",
              "      <td>5</td>\n",
              "      <td>0</td>\n",
              "      <td>0</td>\n",
              "      <td>5</td>\n",
              "      <td>1</td>\n",
              "      <td>25</td>\n",
              "      <td>12887</td>\n",
              "      <td>48767</td>\n",
              "      <td>108</td>\n",
              "      <td>18</td>\n",
              "      <td>38</td>\n",
              "      <td>0</td>\n",
              "      <td>2</td>\n",
              "      <td>566.472247</td>\n",
              "      <td>3</td>\n",
              "    </tr>\n",
              "    <tr>\n",
              "      <th>3</th>\n",
              "      <td>8016</td>\n",
              "      <td>1</td>\n",
              "      <td>0</td>\n",
              "      <td>0</td>\n",
              "      <td>0</td>\n",
              "      <td>31</td>\n",
              "      <td>4</td>\n",
              "      <td>1</td>\n",
              "      <td>1</td>\n",
              "      <td>1</td>\n",
              "      <td>0</td>\n",
              "      <td>1</td>\n",
              "      <td>0</td>\n",
              "      <td>2</td>\n",
              "      <td>3</td>\n",
              "      <td>1</td>\n",
              "      <td>24</td>\n",
              "      <td>7646</td>\n",
              "      <td>0</td>\n",
              "      <td>106</td>\n",
              "      <td>18</td>\n",
              "      <td>65</td>\n",
              "      <td>0</td>\n",
              "      <td>7</td>\n",
              "      <td>529.881344</td>\n",
              "      <td>1</td>\n",
              "    </tr>\n",
              "    <tr>\n",
              "      <th>4</th>\n",
              "      <td>2488</td>\n",
              "      <td>4</td>\n",
              "      <td>0</td>\n",
              "      <td>0</td>\n",
              "      <td>0</td>\n",
              "      <td>14</td>\n",
              "      <td>1</td>\n",
              "      <td>1</td>\n",
              "      <td>0</td>\n",
              "      <td>2</td>\n",
              "      <td>1</td>\n",
              "      <td>3</td>\n",
              "      <td>0</td>\n",
              "      <td>0</td>\n",
              "      <td>0</td>\n",
              "      <td>1</td>\n",
              "      <td>14</td>\n",
              "      <td>2814</td>\n",
              "      <td>43836</td>\n",
              "      <td>73</td>\n",
              "      <td>12</td>\n",
              "      <td>44</td>\n",
              "      <td>0</td>\n",
              "      <td>1</td>\n",
              "      <td>138.130879</td>\n",
              "      <td>3</td>\n",
              "    </tr>\n",
              "  </tbody>\n",
              "</table>\n",
              "</div>"
            ],
            "text/plain": [
              "   Customer  State  ...  Total_Claim_Amount  cluster_id\n",
              "0       600      4  ...          384.811147           3\n",
              "1      5946      0  ...         1131.464935           1\n",
              "2        96      2  ...          566.472247           3\n",
              "3      8016      1  ...          529.881344           1\n",
              "4      2488      4  ...          138.130879           3\n",
              "\n",
              "[5 rows x 26 columns]"
            ]
          },
          "metadata": {
            "tags": []
          },
          "execution_count": 104
        }
      ]
    },
    {
      "cell_type": "code",
      "metadata": {
        "id": "Lus5YXwkYGBd",
        "colab_type": "code",
        "colab": {}
      },
      "source": [
        "ins_upd_df.to_csv('insurance_upd.csv')"
      ],
      "execution_count": 0,
      "outputs": []
    },
    {
      "cell_type": "code",
      "metadata": {
        "id": "Z7r0hAnb5jVA",
        "colab_type": "code",
        "colab": {
          "base_uri": "https://localhost:8080/",
          "height": 392
        },
        "outputId": "0144049e-972d-42ee-9601-d7fd0a71e88d"
      },
      "source": [
        "#Choosing optimal K\n",
        "cost = []\n",
        "for num_clusters in list(range(1,14)):\n",
        "    kproto = KPrototypes(n_clusters=num_clusters, init='Cao')\n",
        "    kproto.fit_predict(X_scale, categorical=[0,1,2,3,4,5,6,7,8,9,10,11,12,13,14,15,16])\n",
        "    cost.append(kproto.cost_)\n",
        "\n",
        "plt.figure(figsize=(20,6))   \n",
        "plt.plot(cost)"
      ],
      "execution_count": 103,
      "outputs": [
        {
          "output_type": "execute_result",
          "data": {
            "text/plain": [
              "[<matplotlib.lines.Line2D at 0x7f3548675eb8>]"
            ]
          },
          "metadata": {
            "tags": []
          },
          "execution_count": 103
        },
        {
          "output_type": "display_data",
          "data": {
            "image/png": "[encoded data removed]",
            "text/plain": [
              "<Figure size 1440x432 with 1 Axes>"
            ]
          },
          "metadata": {
            "tags": []
          }
        }
      ]
    },
    {
      "cell_type": "code",
      "metadata": {
        "id": "vFijGi4O7gKL",
        "colab_type": "code",
        "colab": {}
      },
      "source": [
        "#Running KPrototype Clustering, n_clusters=4, init='Cao' \n",
        "kproto = KPrototypes(n_clusters=4, init='Cao')\n",
        "clusters = kproto.fit_predict(X_scale, categorical=[0,1,2,3,4,5,6,7,8,9,10,11,12,13,14,15,16])"
      ],
      "execution_count": 0,
      "outputs": []
    },
    {
      "cell_type": "code",
      "metadata": {
        "id": "Rqv1L2YA8etU",
        "colab_type": "code",
        "colab": {}
      },
      "source": [
        "#Adding the predicted clusters to the main dataset\n",
        "ins_upd_df['cluster_id'] = clusters"
      ],
      "execution_count": 0,
      "outputs": []
    },
    {
      "cell_type": "code",
      "metadata": {
        "id": "IzjwyDu79K9t",
        "colab_type": "code",
        "colab": {
          "base_uri": "https://localhost:8080/",
          "height": 170
        },
        "outputId": "ffb4df3b-9f0b-4cc2-a270-cf5e429ff53a"
      },
      "source": [
        "#Checking the clusters created\n",
        "ins_clusters = pd.DataFrame(ins_upd_df['cluster_id'].value_counts())\n",
        "ins_clusters"
      ],
      "execution_count": 16,
      "outputs": [
        {
          "output_type": "execute_result",
          "data": {
            "text/html": [
              "<div>\n",
              "<style scoped>\n",
              "    .dataframe tbody tr th:only-of-type {\n",
              "        vertical-align: middle;\n",
              "    }\n",
              "\n",
              "    .dataframe tbody tr th {\n",
              "        vertical-align: top;\n",
              "    }\n",
              "\n",
              "    .dataframe thead th {\n",
              "        text-align: right;\n",
              "    }\n",
              "</style>\n",
              "<table border=\"1\" class=\"dataframe\">\n",
              "  <thead>\n",
              "    <tr style=\"text-align: right;\">\n",
              "      <th></th>\n",
              "      <th>cluster_id</th>\n",
              "    </tr>\n",
              "  </thead>\n",
              "  <tbody>\n",
              "    <tr>\n",
              "      <th>1</th>\n",
              "      <td>5172</td>\n",
              "    </tr>\n",
              "    <tr>\n",
              "      <th>2</th>\n",
              "      <td>1695</td>\n",
              "    </tr>\n",
              "    <tr>\n",
              "      <th>3</th>\n",
              "      <td>1499</td>\n",
              "    </tr>\n",
              "    <tr>\n",
              "      <th>0</th>\n",
              "      <td>768</td>\n",
              "    </tr>\n",
              "  </tbody>\n",
              "</table>\n",
              "</div>"
            ],
            "text/plain": [
              "   cluster_id\n",
              "1        5172\n",
              "2        1695\n",
              "3        1499\n",
              "0         768"
            ]
          },
          "metadata": {
            "tags": []
          },
          "execution_count": 16
        }
      ]
    },
    {
      "cell_type": "code",
      "metadata": {
        "id": "Ktg6RkL69S5w",
        "colab_type": "code",
        "colab": {
          "base_uri": "https://localhost:8080/",
          "height": 265
        },
        "outputId": "da437f8f-2223-4a63-9507-e924674648a0"
      },
      "source": [
        "sns.barplot(x=ins_clusters.index, y=ins_clusters['cluster_id']);"
      ],
      "execution_count": 17,
      "outputs": [
        {
          "output_type": "display_data",
          "data": {
            "image/png": "[encoded data removed]",
            "text/plain": [
              "<Figure size 432x288 with 1 Axes>"
            ]
          },
          "metadata": {
            "tags": []
          }
        }
      ]
    },
    {
      "cell_type": "code",
      "metadata": {
        "id": "UV7ZRYZy9mTV",
        "colab_type": "code",
        "colab": {}
      },
      "source": [
        "ins_upd_df.to_csv('insurance_4clusters.csv')"
      ],
      "execution_count": 0,
      "outputs": []
    }
  ]
}